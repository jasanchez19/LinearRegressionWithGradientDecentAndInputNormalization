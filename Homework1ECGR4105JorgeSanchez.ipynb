{
  "nbformat": 4,
  "nbformat_minor": 0,
  "metadata": {
    "colab": {
      "provenance": [],
      "authorship_tag": "ABX9TyNmcvCXLofumDLkKO5B6XFv",
      "include_colab_link": true
    },
    "kernelspec": {
      "name": "python3",
      "display_name": "Python 3"
    },
    "language_info": {
      "name": "python"
    }
  },
  "cells": [
    {
      "cell_type": "markdown",
      "metadata": {
        "id": "view-in-github",
        "colab_type": "text"
      },
      "source": [
        "<a href=\"https://colab.research.google.com/github/jasanchez19/LinearRegressionWithGradientDecentAndInputNormalization/blob/main/Homework1ECGR4105JorgeSanchez.ipynb\" target=\"_parent\"><img src=\"https://colab.research.google.com/assets/colab-badge.svg\" alt=\"Open In Colab\"/></a>"
      ]
    },
    {
      "cell_type": "markdown",
      "source": [
        "# Homework 1"
      ],
      "metadata": {
        "id": "lvYQdha6JRkJ"
      }
    },
    {
      "cell_type": "code",
      "execution_count": 1,
      "metadata": {
        "id": "Ytt0LgcgHT_o"
      },
      "outputs": [],
      "source": [
        "import pandas as pd\n",
        "import numpy as np\n",
        "import matplotlib.pyplot as plt\n",
        "import nbconvert\n",
        "from sklearn.model_selection import train_test_split\n",
        "from sklearn.preprocessing import Normalizer"
      ]
    },
    {
      "cell_type": "code",
      "source": [
        "url= \"https://raw.githubusercontent.com/jasanchez19/LinearRegressionWithGradientDecentAndInputNormalization/main/Housing.csv\"\n",
        "hf=pd.read_csv(url)\n",
        "hf.head()"
      ],
      "metadata": {
        "colab": {
          "base_uri": "https://localhost:8080/",
          "height": 206
        },
        "id": "catw5RClJa_d",
        "outputId": "4a420cb9-f6b5-4d31-8064-27c2bedf6996"
      },
      "execution_count": 6,
      "outputs": [
        {
          "output_type": "execute_result",
          "data": {
            "text/plain": [
              "      price  area  bedrooms  bathrooms  stories mainroad guestroom basement  \\\n",
              "0  13300000  7420         4          2        3      yes        no       no   \n",
              "1  12250000  8960         4          4        4      yes        no       no   \n",
              "2  12250000  9960         3          2        2      yes        no      yes   \n",
              "3  12215000  7500         4          2        2      yes        no      yes   \n",
              "4  11410000  7420         4          1        2      yes       yes      yes   \n",
              "\n",
              "  hotwaterheating airconditioning  parking prefarea furnishingstatus  \n",
              "0              no             yes        2      yes        furnished  \n",
              "1              no             yes        3       no        furnished  \n",
              "2              no              no        2      yes   semi-furnished  \n",
              "3              no             yes        3      yes        furnished  \n",
              "4              no             yes        2       no        furnished  "
            ],
            "text/html": [
              "\n",
              "  <div id=\"df-db053cbe-7d7a-421a-90a0-3003b20db583\">\n",
              "    <div class=\"colab-df-container\">\n",
              "      <div>\n",
              "<style scoped>\n",
              "    .dataframe tbody tr th:only-of-type {\n",
              "        vertical-align: middle;\n",
              "    }\n",
              "\n",
              "    .dataframe tbody tr th {\n",
              "        vertical-align: top;\n",
              "    }\n",
              "\n",
              "    .dataframe thead th {\n",
              "        text-align: right;\n",
              "    }\n",
              "</style>\n",
              "<table border=\"1\" class=\"dataframe\">\n",
              "  <thead>\n",
              "    <tr style=\"text-align: right;\">\n",
              "      <th></th>\n",
              "      <th>price</th>\n",
              "      <th>area</th>\n",
              "      <th>bedrooms</th>\n",
              "      <th>bathrooms</th>\n",
              "      <th>stories</th>\n",
              "      <th>mainroad</th>\n",
              "      <th>guestroom</th>\n",
              "      <th>basement</th>\n",
              "      <th>hotwaterheating</th>\n",
              "      <th>airconditioning</th>\n",
              "      <th>parking</th>\n",
              "      <th>prefarea</th>\n",
              "      <th>furnishingstatus</th>\n",
              "    </tr>\n",
              "  </thead>\n",
              "  <tbody>\n",
              "    <tr>\n",
              "      <th>0</th>\n",
              "      <td>13300000</td>\n",
              "      <td>7420</td>\n",
              "      <td>4</td>\n",
              "      <td>2</td>\n",
              "      <td>3</td>\n",
              "      <td>yes</td>\n",
              "      <td>no</td>\n",
              "      <td>no</td>\n",
              "      <td>no</td>\n",
              "      <td>yes</td>\n",
              "      <td>2</td>\n",
              "      <td>yes</td>\n",
              "      <td>furnished</td>\n",
              "    </tr>\n",
              "    <tr>\n",
              "      <th>1</th>\n",
              "      <td>12250000</td>\n",
              "      <td>8960</td>\n",
              "      <td>4</td>\n",
              "      <td>4</td>\n",
              "      <td>4</td>\n",
              "      <td>yes</td>\n",
              "      <td>no</td>\n",
              "      <td>no</td>\n",
              "      <td>no</td>\n",
              "      <td>yes</td>\n",
              "      <td>3</td>\n",
              "      <td>no</td>\n",
              "      <td>furnished</td>\n",
              "    </tr>\n",
              "    <tr>\n",
              "      <th>2</th>\n",
              "      <td>12250000</td>\n",
              "      <td>9960</td>\n",
              "      <td>3</td>\n",
              "      <td>2</td>\n",
              "      <td>2</td>\n",
              "      <td>yes</td>\n",
              "      <td>no</td>\n",
              "      <td>yes</td>\n",
              "      <td>no</td>\n",
              "      <td>no</td>\n",
              "      <td>2</td>\n",
              "      <td>yes</td>\n",
              "      <td>semi-furnished</td>\n",
              "    </tr>\n",
              "    <tr>\n",
              "      <th>3</th>\n",
              "      <td>12215000</td>\n",
              "      <td>7500</td>\n",
              "      <td>4</td>\n",
              "      <td>2</td>\n",
              "      <td>2</td>\n",
              "      <td>yes</td>\n",
              "      <td>no</td>\n",
              "      <td>yes</td>\n",
              "      <td>no</td>\n",
              "      <td>yes</td>\n",
              "      <td>3</td>\n",
              "      <td>yes</td>\n",
              "      <td>furnished</td>\n",
              "    </tr>\n",
              "    <tr>\n",
              "      <th>4</th>\n",
              "      <td>11410000</td>\n",
              "      <td>7420</td>\n",
              "      <td>4</td>\n",
              "      <td>1</td>\n",
              "      <td>2</td>\n",
              "      <td>yes</td>\n",
              "      <td>yes</td>\n",
              "      <td>yes</td>\n",
              "      <td>no</td>\n",
              "      <td>yes</td>\n",
              "      <td>2</td>\n",
              "      <td>no</td>\n",
              "      <td>furnished</td>\n",
              "    </tr>\n",
              "  </tbody>\n",
              "</table>\n",
              "</div>\n",
              "      <button class=\"colab-df-convert\" onclick=\"convertToInteractive('df-db053cbe-7d7a-421a-90a0-3003b20db583')\"\n",
              "              title=\"Convert this dataframe to an interactive table.\"\n",
              "              style=\"display:none;\">\n",
              "        \n",
              "  <svg xmlns=\"http://www.w3.org/2000/svg\" height=\"24px\"viewBox=\"0 0 24 24\"\n",
              "       width=\"24px\">\n",
              "    <path d=\"M0 0h24v24H0V0z\" fill=\"none\"/>\n",
              "    <path d=\"M18.56 5.44l.94 2.06.94-2.06 2.06-.94-2.06-.94-.94-2.06-.94 2.06-2.06.94zm-11 1L8.5 8.5l.94-2.06 2.06-.94-2.06-.94L8.5 2.5l-.94 2.06-2.06.94zm10 10l.94 2.06.94-2.06 2.06-.94-2.06-.94-.94-2.06-.94 2.06-2.06.94z\"/><path d=\"M17.41 7.96l-1.37-1.37c-.4-.4-.92-.59-1.43-.59-.52 0-1.04.2-1.43.59L10.3 9.45l-7.72 7.72c-.78.78-.78 2.05 0 2.83L4 21.41c.39.39.9.59 1.41.59.51 0 1.02-.2 1.41-.59l7.78-7.78 2.81-2.81c.8-.78.8-2.07 0-2.86zM5.41 20L4 18.59l7.72-7.72 1.47 1.35L5.41 20z\"/>\n",
              "  </svg>\n",
              "      </button>\n",
              "      \n",
              "  <style>\n",
              "    .colab-df-container {\n",
              "      display:flex;\n",
              "      flex-wrap:wrap;\n",
              "      gap: 12px;\n",
              "    }\n",
              "\n",
              "    .colab-df-convert {\n",
              "      background-color: #E8F0FE;\n",
              "      border: none;\n",
              "      border-radius: 50%;\n",
              "      cursor: pointer;\n",
              "      display: none;\n",
              "      fill: #1967D2;\n",
              "      height: 32px;\n",
              "      padding: 0 0 0 0;\n",
              "      width: 32px;\n",
              "    }\n",
              "\n",
              "    .colab-df-convert:hover {\n",
              "      background-color: #E2EBFA;\n",
              "      box-shadow: 0px 1px 2px rgba(60, 64, 67, 0.3), 0px 1px 3px 1px rgba(60, 64, 67, 0.15);\n",
              "      fill: #174EA6;\n",
              "    }\n",
              "\n",
              "    [theme=dark] .colab-df-convert {\n",
              "      background-color: #3B4455;\n",
              "      fill: #D2E3FC;\n",
              "    }\n",
              "\n",
              "    [theme=dark] .colab-df-convert:hover {\n",
              "      background-color: #434B5C;\n",
              "      box-shadow: 0px 1px 3px 1px rgba(0, 0, 0, 0.15);\n",
              "      filter: drop-shadow(0px 1px 2px rgba(0, 0, 0, 0.3));\n",
              "      fill: #FFFFFF;\n",
              "    }\n",
              "  </style>\n",
              "\n",
              "      <script>\n",
              "        const buttonEl =\n",
              "          document.querySelector('#df-db053cbe-7d7a-421a-90a0-3003b20db583 button.colab-df-convert');\n",
              "        buttonEl.style.display =\n",
              "          google.colab.kernel.accessAllowed ? 'block' : 'none';\n",
              "\n",
              "        async function convertToInteractive(key) {\n",
              "          const element = document.querySelector('#df-db053cbe-7d7a-421a-90a0-3003b20db583');\n",
              "          const dataTable =\n",
              "            await google.colab.kernel.invokeFunction('convertToInteractive',\n",
              "                                                     [key], {});\n",
              "          if (!dataTable) return;\n",
              "\n",
              "          const docLinkHtml = 'Like what you see? Visit the ' +\n",
              "            '<a target=\"_blank\" href=https://colab.research.google.com/notebooks/data_table.ipynb>data table notebook</a>'\n",
              "            + ' to learn more about interactive tables.';\n",
              "          element.innerHTML = '';\n",
              "          dataTable['output_type'] = 'display_data';\n",
              "          await google.colab.output.renderOutput(dataTable, element);\n",
              "          const docLink = document.createElement('div');\n",
              "          docLink.innerHTML = docLinkHtml;\n",
              "          element.appendChild(docLink);\n",
              "        }\n",
              "      </script>\n",
              "    </div>\n",
              "  </div>\n",
              "  "
            ]
          },
          "metadata": {},
          "execution_count": 6
        }
      ]
    },
    {
      "cell_type": "code",
      "source": [
        "def compute_loss(X, Y, theta): \n",
        "    preds = X.dot(theta)\n",
        "    errors = np.subtract(preds, Y)\n",
        "    sqrErrors = np.square(errors)\n",
        "    loss = 1 / (2 * samples) * np.sum(sqrErrors)\n",
        "    return loss\n",
        "\n",
        "def gradient_descent(X, Y, theta, lr, iterations): \n",
        "    history = np.zeros(iterations) \n",
        "    for i in range(iterations): \n",
        "        preds = X.dot(theta) #samples x 1 \n",
        "        errors = np.subtract(preds, Y)  #samples x 1\n",
        "        sum_delta = (lr / samples) * X.transpose().dot(errors); #(variables+1) x 1\n",
        "        theta = theta - sum_delta; #(variables+1) x 1\n",
        "        history[i] = compute_loss(X, Y, theta) \n",
        " \n",
        "    return theta, history\n",
        "\n",
        "def gradient_descent_with_validation(X, Y, Xval, Yval, theta, lr, iterations): \n",
        "    history = np.zeros(iterations) \n",
        "    val_history = np.zeros(iterations)\n",
        "    for i in range(iterations): \n",
        "        preds = X.dot(theta) #samples x 1 \n",
        "        errors = np.subtract(preds, Y)  #samples x 1\n",
        "        sum_delta = (lr / samples) * X.transpose().dot(errors); #(variables+1) x 1\n",
        "        theta = theta - sum_delta; #(variables+1) x 1\n",
        "        history[i] = compute_loss(X, Y, theta) \n",
        "        val_history[i] = compute_loss(Xval, Yval, theta)\n",
        "\n",
        "    return theta, history, val_history"
      ],
      "metadata": {
        "id": "sPk1_0kyOp6E"
      },
      "execution_count": 5,
      "outputs": []
    },
    {
      "cell_type": "markdown",
      "source": [
        "Problem 1"
      ],
      "metadata": {
        "id": "3YHQyACaO5al"
      }
    },
    {
      "cell_type": "markdown",
      "source": [
        "1a"
      ],
      "metadata": {
        "id": "TBe57H1yO7Fm"
      }
    },
    {
      "cell_type": "code",
      "source": [
        "lr = 0.1;"
      ],
      "metadata": {
        "id": "x-EQsnSJO893"
      },
      "execution_count": 25,
      "outputs": []
    },
    {
      "cell_type": "code",
      "source": [
        "x = hf[['area', 'bedrooms', 'bathrooms', 'stories', 'parking']]\n",
        "Y = hf[['price']]"
      ],
      "metadata": {
        "id": "OwvauO9WPktJ"
      },
      "execution_count": 62,
      "outputs": []
    },
    {
      "cell_type": "code",
      "source": [
        "x_train, x_test, y_train, y_test = train_test_split(x, Y, test_size = 0.2)\n",
        "samples = len(y_train)\n",
        "test_samples = len(y_test)\n",
        "x0_train = np.ones((samples, 1))\n",
        "x_train = np.hstack((x0_train, x_train)) \n",
        "x0_test = np.ones((test_samples, 1))\n",
        "x_test = np.hstack((x0_test, x_test)) \n",
        "y_train = y_train.values[:]\n",
        "y_test = y_test.values[:]\n",
        "theta = np.zeros(6)\n",
        "theta = theta.reshape(6,1)\n",
        "theta"
      ],
      "metadata": {
        "colab": {
          "base_uri": "https://localhost:8080/",
          "height": 0
        },
        "id": "f-NqP9yaP1AM",
        "outputId": "b59b18ed-8938-4db9-84fc-79b87b79586e"
      },
      "execution_count": 27,
      "outputs": [
        {
          "output_type": "execute_result",
          "data": {
            "text/plain": [
              "array([[0.],\n",
              "       [0.],\n",
              "       [0.],\n",
              "       [0.],\n",
              "       [0.],\n",
              "       [0.]])"
            ]
          },
          "metadata": {},
          "execution_count": 27
        }
      ]
    },
    {
      "cell_type": "code",
      "source": [
        "x_train[0:5]"
      ],
      "metadata": {
        "colab": {
          "base_uri": "https://localhost:8080/",
          "height": 0
        },
        "id": "MRLpa2DvP9hw",
        "outputId": "cb8c4468-540b-42d4-fbde-e7874ee461cf"
      },
      "execution_count": 28,
      "outputs": [
        {
          "output_type": "execute_result",
          "data": {
            "text/plain": [
              "array([[1.00e+00, 6.72e+03, 3.00e+00, 1.00e+00, 1.00e+00, 0.00e+00],\n",
              "       [1.00e+00, 4.00e+03, 2.00e+00, 1.00e+00, 1.00e+00, 0.00e+00],\n",
              "       [1.00e+00, 3.60e+03, 2.00e+00, 1.00e+00, 1.00e+00, 0.00e+00],\n",
              "       [1.00e+00, 5.30e+03, 4.00e+00, 2.00e+00, 1.00e+00, 0.00e+00],\n",
              "       [1.00e+00, 7.50e+03, 4.00e+00, 2.00e+00, 2.00e+00, 3.00e+00]])"
            ]
          },
          "metadata": {},
          "execution_count": 28
        }
      ]
    },
    {
      "cell_type": "code",
      "source": [
        "x_test[0:5]"
      ],
      "metadata": {
        "colab": {
          "base_uri": "https://localhost:8080/",
          "height": 0
        },
        "id": "YqDCj1dVSTvF",
        "outputId": "289aa8e2-1812-495d-a036-5ad0df844bbd"
      },
      "execution_count": 29,
      "outputs": [
        {
          "output_type": "execute_result",
          "data": {
            "text/plain": [
              "array([[1.000e+00, 5.948e+03, 3.000e+00, 1.000e+00, 2.000e+00, 0.000e+00],\n",
              "       [1.000e+00, 4.040e+03, 2.000e+00, 1.000e+00, 1.000e+00, 0.000e+00],\n",
              "       [1.000e+00, 6.000e+03, 3.000e+00, 2.000e+00, 4.000e+00, 0.000e+00],\n",
              "       [1.000e+00, 2.160e+03, 3.000e+00, 1.000e+00, 2.000e+00, 0.000e+00],\n",
              "       [1.000e+00, 4.510e+03, 4.000e+00, 2.000e+00, 2.000e+00, 0.000e+00]])"
            ]
          },
          "metadata": {},
          "execution_count": 29
        }
      ]
    },
    {
      "cell_type": "code",
      "source": [
        "y_train[0:5]"
      ],
      "metadata": {
        "colab": {
          "base_uri": "https://localhost:8080/",
          "height": 0
        },
        "id": "ZILJQQkASer4",
        "outputId": "f3467789-53be-4be3-aa25-2ccfd9ccc375"
      },
      "execution_count": 23,
      "outputs": [
        {
          "output_type": "execute_result",
          "data": {
            "text/plain": [
              "array([[6300000],\n",
              "       [5873000],\n",
              "       [8960000],\n",
              "       [5040000],\n",
              "       [2590000]])"
            ]
          },
          "metadata": {},
          "execution_count": 23
        }
      ]
    },
    {
      "cell_type": "code",
      "source": [
        "y_test[0:5]"
      ],
      "metadata": {
        "colab": {
          "base_uri": "https://localhost:8080/",
          "height": 0
        },
        "id": "CHJ1_ThTSeh0",
        "outputId": "ee9c443f-2ebd-4f36-fd0b-beb7fdfb1c6e"
      },
      "execution_count": 24,
      "outputs": [
        {
          "output_type": "execute_result",
          "data": {
            "text/plain": [
              "array([[3115000],\n",
              "       [4123000],\n",
              "       [4550000],\n",
              "       [4473000],\n",
              "       [4550000]])"
            ]
          },
          "metadata": {},
          "execution_count": 24
        }
      ]
    },
    {
      "cell_type": "code",
      "source": [
        "iterations = 25\n",
        "theta,train_loss,val_loss = gradient_descent_with_validation(x_train,y_train,x_test,y_test,theta,lr,iterations)\n",
        "print(\"theta values, 1a regression: \",theta)\n",
        "print(\"training loss history, 1a regression: \", train_loss)\n",
        "print(\"validation loss history, 1a regression: \", val_loss)"
      ],
      "metadata": {
        "colab": {
          "base_uri": "https://localhost:8080/",
          "height": 0
        },
        "id": "D4y2V6VKTMPa",
        "outputId": "e0ff24ae-9a32-4dfd-c368-4bad4ad2d214"
      },
      "execution_count": 35,
      "outputs": [
        {
          "output_type": "stream",
          "name": "stdout",
          "text": [
            "theta values, 1a regression:  [[6.23164657e+161]\n",
            " [3.83225284e+165]\n",
            " [1.88614717e+162]\n",
            " [8.28385243e+161]\n",
            " [1.15099619e+162]\n",
            " [5.18886041e+161]\n",
            " [5.61366483e+161]\n",
            " [1.30281340e+161]\n",
            " [2.31368097e+161]\n",
            " [2.98625110e+160]\n",
            " [2.22870146e+161]\n",
            " [1.71478010e+161]]\n",
            "training loss history, 1a regression:  [1.22397079e+026 1.25778213e+039 1.29252748e+052 1.32823265e+065\n",
            " 1.36492414e+078 1.40262922e+091 1.44137587e+104 1.48119287e+117\n",
            " 1.52210979e+130 1.56415701e+143 1.60736575e+156 1.65176811e+169\n",
            " 1.69739704e+182 1.74428645e+195 1.79247114e+208 1.84198690e+221\n",
            " 1.89287050e+234 1.94515973e+247 1.99889341e+260 2.05411144e+273\n",
            " 2.11085483e+286 2.16916572e+299             inf             inf\n",
            "             inf]\n",
            "validation loss history, 1a regression:  [2.66492496e+025 2.73854157e+038 2.81419186e+051 2.89193195e+064\n",
            " 2.97181954e+077 3.05391398e+090 3.13827622e+103 3.22496890e+116\n",
            " 3.31405641e+129 3.40560490e+142 3.49968236e+155 3.59635864e+168\n",
            " 3.69570553e+181 3.79779681e+194 3.90270829e+207 4.01051788e+220\n",
            " 4.12130563e+233 4.23515381e+246 4.35214698e+259 4.47237199e+272\n",
            " 4.59591814e+285 4.72287716e+298             inf             inf\n",
            "             inf]\n"
          ]
        },
        {
          "output_type": "stream",
          "name": "stderr",
          "text": [
            "/usr/local/lib/python3.7/dist-packages/ipykernel_launcher.py:4: RuntimeWarning: overflow encountered in square\n",
            "  after removing the cwd from sys.path.\n"
          ]
        }
      ]
    },
    {
      "cell_type": "code",
      "source": [
        "plt.plot(range(1, iterations + 1), train_loss, color='blue') \n",
        "plt.rcParams[\"figure.figsize\"] = (10,6) \n",
        "plt.grid() \n",
        "plt.xlabel('Number of Iterations') \n",
        "plt.ylabel('Loss') \n",
        "plt.title('1a Training Loss')"
      ],
      "metadata": {
        "colab": {
          "base_uri": "https://localhost:8080/",
          "height": 421
        },
        "id": "qJTQh2sOTVHS",
        "outputId": "05643f9a-6232-44a8-ddd2-d19ea6b1b6ef"
      },
      "execution_count": 36,
      "outputs": [
        {
          "output_type": "execute_result",
          "data": {
            "text/plain": [
              "Text(0.5, 1.0, '1a Training Loss')"
            ]
          },
          "metadata": {},
          "execution_count": 36
        },
        {
          "output_type": "display_data",
          "data": {
            "text/plain": [
              "<Figure size 720x432 with 1 Axes>"
            ],
            "image/png": "[encoded data removed]"
          },
          "metadata": {
            "needs_background": "light"
          }
        }
      ]
    },
    {
      "cell_type": "code",
      "source": [
        "plt.plot(range(1, iterations + 1), val_loss, color='blue') \n",
        "plt.rcParams[\"figure.figsize\"] = (10,6) \n",
        "plt.grid() \n",
        "plt.xlabel('Number of Iterations') \n",
        "plt.ylabel('Loss') \n",
        "plt.title('1a Validation Loss') "
      ],
      "metadata": {
        "colab": {
          "base_uri": "https://localhost:8080/",
          "height": 421
        },
        "id": "aTp2ZnocTbqn",
        "outputId": "af558873-61e0-428e-a829-995a4f82408d"
      },
      "execution_count": 37,
      "outputs": [
        {
          "output_type": "execute_result",
          "data": {
            "text/plain": [
              "Text(0.5, 1.0, '1a Validation Loss')"
            ]
          },
          "metadata": {},
          "execution_count": 37
        },
        {
          "output_type": "display_data",
          "data": {
            "text/plain": [
              "<Figure size 720x432 with 1 Axes>"
            ],
            "image/png": "[encoded data removed]"
          },
          "metadata": {
            "needs_background": "light"
          }
        }
      ]
    },
    {
      "cell_type": "markdown",
      "source": [
        "1b"
      ],
      "metadata": {
        "id": "iMWMhL8oTgY4"
      }
    },
    {
      "cell_type": "code",
      "source": [
        "x = hf[['area', 'bedrooms', 'bathrooms', 'stories', 'mainroad', 'guestroom', 'basement', \n",
        "        'hotwaterheating', 'airconditioning', 'parking', 'prefarea']]\n",
        "x = pd.get_dummies(x,drop_first = True)"
      ],
      "metadata": {
        "id": "5HJJYN8fTi71"
      },
      "execution_count": 63,
      "outputs": []
    },
    {
      "cell_type": "code",
      "source": [
        "x_train, x_test, y_train, y_test = train_test_split(x, Y, test_size = 0.2)\n",
        "samples = len(y_train)\n",
        "test_samples = len(y_test)\n",
        "x0_train = np.ones((samples, 1))\n",
        "x_train = np.hstack((x0_train, x_train)) \n",
        "x0_test = np.ones((test_samples, 1))\n",
        "x_test = np.hstack((x0_test, x_test)) \n",
        "y_train = y_train.values[:]\n",
        "y_test = y_test.values[:]\n",
        "theta = np.zeros(12)\n",
        "theta = theta.reshape(12,1)\n",
        "theta"
      ],
      "metadata": {
        "colab": {
          "base_uri": "https://localhost:8080/",
          "height": 0
        },
        "id": "s5QlKVpVTvXT",
        "outputId": "0efb78e7-25b7-4b8c-e1f8-b4272b46c72f"
      },
      "execution_count": 64,
      "outputs": [
        {
          "output_type": "execute_result",
          "data": {
            "text/plain": [
              "array([[0.],\n",
              "       [0.],\n",
              "       [0.],\n",
              "       [0.],\n",
              "       [0.],\n",
              "       [0.],\n",
              "       [0.],\n",
              "       [0.],\n",
              "       [0.],\n",
              "       [0.],\n",
              "       [0.],\n",
              "       [0.]])"
            ]
          },
          "metadata": {},
          "execution_count": 64
        }
      ]
    },
    {
      "cell_type": "code",
      "source": [
        "iterations = 25\n",
        "theta,train_loss,val_loss = gradient_descent_with_validation(x_train,y_train,x_test,y_test,theta,lr,iterations)\n",
        "print(\"theta values for 1b regression: \",theta)\n",
        "print(\"training loss history for 1b regression: \", train_loss)\n",
        "print(\"validation loss history for 1b regression: \", val_loss)"
      ],
      "metadata": {
        "colab": {
          "base_uri": "https://localhost:8080/",
          "height": 0
        },
        "id": "qhEDOg79T1Jm",
        "outputId": "565b322b-2b92-49f1-a9a4-c78e446d154e"
      },
      "execution_count": 65,
      "outputs": [
        {
          "output_type": "stream",
          "name": "stdout",
          "text": [
            "theta values for 1b regression:  [[5.19885797e+161]\n",
            " [3.18013829e+165]\n",
            " [1.57034386e+162]\n",
            " [6.91650113e+161]\n",
            " [9.36146898e+161]\n",
            " [4.42253398e+161]\n",
            " [4.69476974e+161]\n",
            " [1.09635578e+161]\n",
            " [1.85735401e+161]\n",
            " [2.57042999e+160]\n",
            " [1.79924824e+161]\n",
            " [1.44686703e+161]]\n",
            "training loss history for 1b regression:  [1.17614927e+026 1.19162343e+039 1.20730118e+052 1.22318520e+065\n",
            " 1.23927820e+078 1.25558293e+091 1.27210217e+104 1.28883875e+117\n",
            " 1.30579553e+130 1.32297540e+143 1.34038130e+156 1.35801621e+169\n",
            " 1.37588313e+182 1.39398511e+195 1.41232526e+208 1.43090671e+221\n",
            " 1.44973262e+234 1.46880622e+247 1.48813076e+260 1.50770955e+273\n",
            " 1.52754593e+286 1.54764330e+299             inf             inf\n",
            "             inf]\n",
            "validation loss history for 1b regression:  [2.66270134e+025 2.69773352e+038 2.73322661e+051 2.76918667e+064\n",
            " 2.80561984e+077 2.84253235e+090 2.87993050e+103 2.91782069e+116\n",
            " 2.95620938e+129 2.99510314e+142 3.03450861e+155 3.07443253e+168\n",
            " 3.11488171e+181 3.15586306e+194 3.19738359e+207 3.23945039e+220\n",
            " 3.28207065e+233 3.32525165e+246 3.36900076e+259 3.41332547e+272\n",
            " 3.45823333e+285 3.50373204e+298             inf             inf\n",
            "             inf]\n"
          ]
        },
        {
          "output_type": "stream",
          "name": "stderr",
          "text": [
            "/usr/local/lib/python3.7/dist-packages/ipykernel_launcher.py:4: RuntimeWarning: overflow encountered in square\n",
            "  after removing the cwd from sys.path.\n"
          ]
        }
      ]
    },
    {
      "cell_type": "code",
      "source": [
        "plt.plot(range(1, iterations + 1), train_loss, color='blue') \n",
        "plt.rcParams[\"figure.figsize\"] = (10,6) \n",
        "plt.grid() \n",
        "plt.xlabel('Number of Iterations') \n",
        "plt.ylabel('Loss') \n",
        "plt.title('1b Training Loss')"
      ],
      "metadata": {
        "colab": {
          "base_uri": "https://localhost:8080/",
          "height": 421
        },
        "id": "kMbs2y6UUobi",
        "outputId": "429ace14-d16c-4435-ac22-460d59ce0b90"
      },
      "execution_count": 66,
      "outputs": [
        {
          "output_type": "execute_result",
          "data": {
            "text/plain": [
              "Text(0.5, 1.0, '1b Training Loss')"
            ]
          },
          "metadata": {},
          "execution_count": 66
        },
        {
          "output_type": "display_data",
          "data": {
            "text/plain": [
              "<Figure size 720x432 with 1 Axes>"
            ],
            "image/png": "[encoded data removed]"
          },
          "metadata": {
            "needs_background": "light"
          }
        }
      ]
    },
    {
      "cell_type": "code",
      "source": [
        "plt.plot(range(1, iterations + 1), val_loss, color='blue') \n",
        "plt.rcParams[\"figure.figsize\"] = (10,6) \n",
        "plt.grid() \n",
        "plt.xlabel('Number of Iterations') \n",
        "plt.ylabel('Loss') \n",
        "plt.title('1b Validation Loss') "
      ],
      "metadata": {
        "colab": {
          "base_uri": "https://localhost:8080/",
          "height": 421
        },
        "id": "GLHrFpbnUu4y",
        "outputId": "9fab6d43-6fd0-40d5-c242-2ce09f3d16dd"
      },
      "execution_count": 67,
      "outputs": [
        {
          "output_type": "execute_result",
          "data": {
            "text/plain": [
              "Text(0.5, 1.0, '1b Validation Loss')"
            ]
          },
          "metadata": {},
          "execution_count": 67
        },
        {
          "output_type": "display_data",
          "data": {
            "text/plain": [
              "<Figure size 720x432 with 1 Axes>"
            ],
            "image/png": "[encoded data removed]"
          },
          "metadata": {
            "needs_background": "light"
          }
        }
      ]
    },
    {
      "cell_type": "markdown",
      "source": [
        "Problem 2"
      ],
      "metadata": {
        "id": "fHs9sOqdU2FW"
      }
    },
    {
      "cell_type": "markdown",
      "source": [
        "2a"
      ],
      "metadata": {
        "id": "Dag258ASU3lx"
      }
    },
    {
      "cell_type": "code",
      "source": [
        "from sklearn import preprocessing\n",
        "lr = 0.1"
      ],
      "metadata": {
        "id": "3XJoHLw0U4nJ"
      },
      "execution_count": 68,
      "outputs": []
    },
    {
      "cell_type": "code",
      "source": [
        "x = hf[['area', 'bedrooms', 'bathrooms', 'stories', 'parking']]\n",
        "standardizer = preprocessing.StandardScaler().fit(x)\n",
        "x_std = standardizer.transform(x)\n",
        "normalizer = preprocessing.Normalizer().fit(x)\n",
        "x_norm = normalizer.transform(x)"
      ],
      "metadata": {
        "id": "nc3L4hjhVBdT"
      },
      "execution_count": 69,
      "outputs": []
    },
    {
      "cell_type": "code",
      "source": [
        "x_std[0:5]"
      ],
      "metadata": {
        "colab": {
          "base_uri": "https://localhost:8080/",
          "height": 0
        },
        "id": "Qmy2rizCVFPY",
        "outputId": "4ea7348d-b6a6-4dfa-e055-55d947845f3a"
      },
      "execution_count": 70,
      "outputs": [
        {
          "output_type": "execute_result",
          "data": {
            "text/plain": [
              "array([[ 1.04672629,  1.40341936,  1.42181174,  1.37821692,  1.51769249],\n",
              "       [ 1.75700953,  1.40341936,  5.40580863,  2.53202371,  2.67940935],\n",
              "       [ 2.21823241,  0.04727831,  1.42181174,  0.22441013,  1.51769249],\n",
              "       [ 1.08362412,  1.40341936,  1.42181174,  0.22441013,  2.67940935],\n",
              "       [ 1.04672629,  1.40341936, -0.57018671,  0.22441013,  1.51769249]])"
            ]
          },
          "metadata": {},
          "execution_count": 70
        }
      ]
    },
    {
      "cell_type": "code",
      "source": [
        "x_norm[0:5]"
      ],
      "metadata": {
        "colab": {
          "base_uri": "https://localhost:8080/",
          "height": 0
        },
        "id": "HaJuBYlNVGYA",
        "outputId": "9764611e-d7fd-46b6-b72a-ca73c00a5104"
      },
      "execution_count": 71,
      "outputs": [
        {
          "output_type": "execute_result",
          "data": {
            "text/plain": [
              "array([[9.99999700e-01, 5.39083396e-04, 2.69541698e-04, 4.04312547e-04,\n",
              "        2.69541698e-04],\n",
              "       [9.99999645e-01, 4.46428413e-04, 4.46428413e-04, 4.46428413e-04,\n",
              "        3.34821310e-04],\n",
              "       [9.99999894e-01, 3.01204787e-04, 2.00803192e-04, 2.00803192e-04,\n",
              "        2.00803192e-04],\n",
              "       [9.99999707e-01, 5.33333177e-04, 2.66666588e-04, 2.66666588e-04,\n",
              "        3.99999883e-04],\n",
              "       [9.99999773e-01, 5.39083436e-04, 1.34770859e-04, 2.69541718e-04,\n",
              "        2.69541718e-04]])"
            ]
          },
          "metadata": {},
          "execution_count": 71
        }
      ]
    },
    {
      "cell_type": "code",
      "source": [
        "Y = hf[['price']]\n",
        "standardizer = preprocessing.StandardScaler().fit(Y)\n",
        "y_std = standardizer.transform(Y)\n",
        "y_norm = preprocessing.normalize(Y,axis=0)"
      ],
      "metadata": {
        "id": "FVu0EQq0VIHR"
      },
      "execution_count": 73,
      "outputs": []
    },
    {
      "cell_type": "code",
      "source": [
        "y_std[0:5]"
      ],
      "metadata": {
        "colab": {
          "base_uri": "https://localhost:8080/",
          "height": 0
        },
        "id": "9EMLKUzAVRTO",
        "outputId": "08af8ced-5ecd-407b-e309-0abf9a58cb0f"
      },
      "execution_count": 74,
      "outputs": [
        {
          "output_type": "execute_result",
          "data": {
            "text/plain": [
              "array([[4.56636513],\n",
              "       [4.00448405],\n",
              "       [4.00448405],\n",
              "       [3.98575468],\n",
              "       [3.55497918]])"
            ]
          },
          "metadata": {},
          "execution_count": 74
        }
      ]
    },
    {
      "cell_type": "code",
      "source": [
        "y_norm[0:5]"
      ],
      "metadata": {
        "colab": {
          "base_uri": "https://localhost:8080/",
          "height": 0
        },
        "id": "3IJ5hANuVSkQ",
        "outputId": "1715442f-7294-4dda-fce2-1806ae8be894"
      },
      "execution_count": 75,
      "outputs": [
        {
          "output_type": "execute_result",
          "data": {
            "text/plain": [
              "array([[0.11127257],\n",
              "       [0.1024879 ],\n",
              "       [0.1024879 ],\n",
              "       [0.10219507],\n",
              "       [0.09546015]])"
            ]
          },
          "metadata": {},
          "execution_count": 75
        }
      ]
    },
    {
      "cell_type": "code",
      "source": [
        "x_train, x_test, y_train, y_test = train_test_split(x_std, y_std, test_size = 0.2)\n",
        "samples = len(y_train)\n",
        "test_samples = len(y_test)\n",
        "x0_train = np.ones((samples, 1))\n",
        "x_train = np.hstack((x0_train, x_train)) \n",
        "x0_test = np.ones((test_samples, 1))\n",
        "x_test = np.hstack((x0_test, x_test)) \n",
        "theta = np.zeros(6)\n",
        "theta = theta.reshape(6,1)\n",
        "theta"
      ],
      "metadata": {
        "colab": {
          "base_uri": "https://localhost:8080/",
          "height": 0
        },
        "id": "jIdYY7o2VUa0",
        "outputId": "617d65c1-2c54-4004-c89e-9024ea0324f6"
      },
      "execution_count": 84,
      "outputs": [
        {
          "output_type": "execute_result",
          "data": {
            "text/plain": [
              "array([[0.],\n",
              "       [0.],\n",
              "       [0.],\n",
              "       [0.],\n",
              "       [0.],\n",
              "       [0.]])"
            ]
          },
          "metadata": {},
          "execution_count": 84
        }
      ]
    },
    {
      "cell_type": "code",
      "source": [
        "iterations = 1500\n",
        "theta,train_loss,val_loss = gradient_descent_with_validation(x_train,y_train,x_test,y_test,theta,lr,iterations)\n",
        "print(\"Theta values, 2a, standardized regression: \",theta)\n",
        "print(\"Training loss history, standardized regression: \", train_loss)\n",
        "print(\"Validation loss history, 2a, standardized regression: \", val_loss)"
      ],
      "metadata": {
        "colab": {
          "base_uri": "https://localhost:8080/",
          "height": 0
        },
        "id": "J7eZQKZMVXLZ",
        "outputId": "30f75b09-7380-4ed9-dce4-43182e4d95ac"
      },
      "execution_count": 85,
      "outputs": [
        {
          "output_type": "stream",
          "name": "stdout",
          "text": [
            "Theta values, 2a, standardized regression:  [[0.01242109]\n",
            " [0.37330104]\n",
            " [0.07733309]\n",
            " [0.28877917]\n",
            " [0.25625813]\n",
            " [0.17804121]]\n",
            "Training loss history, standardized regression:  [0.40839244 0.34450385 0.30296731 ... 0.21946227 0.21946227 0.21946227]\n",
            "Validation loss history, 2a, standardized regression:  [0.0978361  0.08462826 0.0759252  ... 0.05487219 0.05487219 0.05487219]\n"
          ]
        }
      ]
    },
    {
      "cell_type": "code",
      "source": [
        "plt.plot(range(1, iterations + 1), train_loss, color='blue') \n",
        "plt.rcParams[\"figure.figsize\"] = (10,6) \n",
        "plt.grid() \n",
        "plt.xlabel('Number of Iterations') \n",
        "plt.ylabel('Loss') \n",
        "plt.title('2a Standardized Set Training Loss')"
      ],
      "metadata": {
        "colab": {
          "base_uri": "https://localhost:8080/",
          "height": 421
        },
        "id": "7SfJRpqIWLMr",
        "outputId": "e34eef90-ba76-47b8-90ee-a0c921a54a22"
      },
      "execution_count": 86,
      "outputs": [
        {
          "output_type": "execute_result",
          "data": {
            "text/plain": [
              "Text(0.5, 1.0, '2a Standardized Set Training Loss')"
            ]
          },
          "metadata": {},
          "execution_count": 86
        },
        {
          "output_type": "display_data",
          "data": {
            "text/plain": [
              "<Figure size 720x432 with 1 Axes>"
            ],
            "image/png": "[encoded data removed]"
          },
          "metadata": {
            "needs_background": "light"
          }
        }
      ]
    },
    {
      "cell_type": "code",
      "source": [
        "plt.plot(range(1, iterations + 1), val_loss, color='blue') \n",
        "plt.rcParams[\"figure.figsize\"] = (10,6) \n",
        "plt.grid() \n",
        "plt.xlabel('Number of Iterations') \n",
        "plt.ylabel('Loss') \n",
        "plt.title('2a Standardized Set Validation Loss') "
      ],
      "metadata": {
        "colab": {
          "base_uri": "https://localhost:8080/",
          "height": 421
        },
        "id": "MakpcI-5WleL",
        "outputId": "6af74f09-585f-4b2e-9aaa-dc32f0630f54"
      },
      "execution_count": 87,
      "outputs": [
        {
          "output_type": "execute_result",
          "data": {
            "text/plain": [
              "Text(0.5, 1.0, '2a Standardized Set Validation Loss')"
            ]
          },
          "metadata": {},
          "execution_count": 87
        },
        {
          "output_type": "display_data",
          "data": {
            "text/plain": [
              "<Figure size 720x432 with 1 Axes>"
            ],
            "image/png": "[encoded data removed]"
          },
          "metadata": {
            "needs_background": "light"
          }
        }
      ]
    },
    {
      "cell_type": "code",
      "source": [
        "x_train, x_test, y_train, y_test = train_test_split(x_norm, y_norm, test_size = 0.2)\n",
        "samples = len(y_train)\n",
        "test_samples = len(y_test)\n",
        "x0_train = np.ones((samples, 1))\n",
        "x_train = np.hstack((x0_train, x_train)) \n",
        "x0_test = np.ones((test_samples, 1))\n",
        "x_test = np.hstack((x0_test, x_test)) \n",
        "theta = np.zeros(6)\n",
        "theta = theta.reshape(6,1)\n",
        "theta"
      ],
      "metadata": {
        "colab": {
          "base_uri": "https://localhost:8080/",
          "height": 0
        },
        "id": "PNL60Z3jWlWK",
        "outputId": "3062717f-85a5-47e7-8d51-544b3ccd8206"
      },
      "execution_count": 88,
      "outputs": [
        {
          "output_type": "execute_result",
          "data": {
            "text/plain": [
              "array([[0.],\n",
              "       [0.],\n",
              "       [0.],\n",
              "       [0.],\n",
              "       [0.],\n",
              "       [0.]])"
            ]
          },
          "metadata": {},
          "execution_count": 88
        }
      ]
    },
    {
      "cell_type": "code",
      "source": [
        "iterations = 1500\n",
        "theta,train_loss,val_loss = gradient_descent_with_validation(x_train,y_train,x_test,y_test,theta,lr,iterations)\n",
        "print(\"Theta values, 2a, normalized regression: \",theta)\n",
        "print(\"Training loss history, 2a, normalized regression: \", train_loss)\n",
        "print(\"Validation loss history, 2a, normalized regression: \", val_loss)"
      ],
      "metadata": {
        "colab": {
          "base_uri": "https://localhost:8080/",
          "height": 0
        },
        "id": "SSUs26RkW6T7",
        "outputId": "51ded75c-3c87-4d3a-e99b-48f685967878"
      },
      "execution_count": 89,
      "outputs": [
        {
          "output_type": "stream",
          "name": "stdout",
          "text": [
            "Theta values, 2a, normalized regression:  [[ 1.99321242e-02]\n",
            " [ 1.99323152e-02]\n",
            " [-2.03112046e-04]\n",
            " [-2.36195364e-05]\n",
            " [-3.07851530e-05]\n",
            " [ 8.00873109e-05]]\n",
            "Training loss history, 2a, normalized regression:  [0.00063102 0.00044794 0.00033078 ... 0.00012248 0.00012248 0.00012248]\n",
            "Validation loss history, 2a, normalized regression:  [1.58053612e-04 1.12159162e-04 8.27664557e-05 ... 3.02875937e-05\n",
            " 3.02875937e-05 3.02875936e-05]\n"
          ]
        }
      ]
    },
    {
      "cell_type": "code",
      "source": [
        "plt.plot(range(1, iterations + 1), train_loss, color='blue') \n",
        "plt.rcParams[\"figure.figsize\"] = (10,6) \n",
        "plt.grid() \n",
        "plt.xlabel('Number of Iterations') \n",
        "plt.ylabel('Loss') \n",
        "plt.title('2a Normalized Set Training Loss')"
      ],
      "metadata": {
        "colab": {
          "base_uri": "https://localhost:8080/",
          "height": 421
        },
        "id": "lHpachzSXFf8",
        "outputId": "5fd342e1-b809-4d16-8007-6f8e5b5d9ca0"
      },
      "execution_count": 90,
      "outputs": [
        {
          "output_type": "execute_result",
          "data": {
            "text/plain": [
              "Text(0.5, 1.0, '2a Normalized Set Training Loss')"
            ]
          },
          "metadata": {},
          "execution_count": 90
        },
        {
          "output_type": "display_data",
          "data": {
            "text/plain": [
              "<Figure size 720x432 with 1 Axes>"
            ],
            "image/png": "[encoded data removed]"
          },
          "metadata": {
            "needs_background": "light"
          }
        }
      ]
    },
    {
      "cell_type": "code",
      "source": [
        "plt.plot(range(1, iterations + 1), val_loss, color='blue') \n",
        "plt.rcParams[\"figure.figsize\"] = (10,6) \n",
        "plt.grid() \n",
        "plt.xlabel('Number of Iterations') \n",
        "plt.ylabel('Loss') \n",
        "plt.title('2a Normalized Set Validation Loss') "
      ],
      "metadata": {
        "colab": {
          "base_uri": "https://localhost:8080/",
          "height": 421
        },
        "id": "KC9jDT08XLXD",
        "outputId": "c43764dc-b3b9-437f-d442-d16a6d4f0a68"
      },
      "execution_count": 91,
      "outputs": [
        {
          "output_type": "execute_result",
          "data": {
            "text/plain": [
              "Text(0.5, 1.0, '2a Normalized Set Validation Loss')"
            ]
          },
          "metadata": {},
          "execution_count": 91
        },
        {
          "output_type": "display_data",
          "data": {
            "text/plain": [
              "<Figure size 720x432 with 1 Axes>"
            ],
            "image/png": "[encoded data removed]"
          },
          "metadata": {
            "needs_background": "light"
          }
        }
      ]
    },
    {
      "cell_type": "markdown",
      "source": [
        "2b"
      ],
      "metadata": {
        "id": "6oQeFaCGXR7R"
      }
    },
    {
      "cell_type": "code",
      "source": [
        "x = hf[['area', 'bedrooms', 'bathrooms', 'stories', 'mainroad', 'guestroom', 'basement', \n",
        "        'hotwaterheating', 'airconditioning', 'parking', 'prefarea']]\n",
        "x = pd.get_dummies(x,drop_first = True)\n",
        "x.head()"
      ],
      "metadata": {
        "colab": {
          "base_uri": "https://localhost:8080/",
          "height": 206
        },
        "id": "chm6w2z9XSjy",
        "outputId": "a0313d60-ff26-4fb3-8909-12460363c42b"
      },
      "execution_count": 92,
      "outputs": [
        {
          "output_type": "execute_result",
          "data": {
            "text/plain": [
              "   area  bedrooms  bathrooms  stories  parking  mainroad_yes  guestroom_yes  \\\n",
              "0  7420         4          2        3        2             1              0   \n",
              "1  8960         4          4        4        3             1              0   \n",
              "2  9960         3          2        2        2             1              0   \n",
              "3  7500         4          2        2        3             1              0   \n",
              "4  7420         4          1        2        2             1              1   \n",
              "\n",
              "   basement_yes  hotwaterheating_yes  airconditioning_yes  prefarea_yes  \n",
              "0             0                    0                    1             1  \n",
              "1             0                    0                    1             0  \n",
              "2             1                    0                    0             1  \n",
              "3             1                    0                    1             1  \n",
              "4             1                    0                    1             0  "
            ],
            "text/html": [
              "\n",
              "  <div id=\"df-374d41b3-5b71-4996-b8c2-9de280bb3c24\">\n",
              "    <div class=\"colab-df-container\">\n",
              "      <div>\n",
              "<style scoped>\n",
              "    .dataframe tbody tr th:only-of-type {\n",
              "        vertical-align: middle;\n",
              "    }\n",
              "\n",
              "    .dataframe tbody tr th {\n",
              "        vertical-align: top;\n",
              "    }\n",
              "\n",
              "    .dataframe thead th {\n",
              "        text-align: right;\n",
              "    }\n",
              "</style>\n",
              "<table border=\"1\" class=\"dataframe\">\n",
              "  <thead>\n",
              "    <tr style=\"text-align: right;\">\n",
              "      <th></th>\n",
              "      <th>area</th>\n",
              "      <th>bedrooms</th>\n",
              "      <th>bathrooms</th>\n",
              "      <th>stories</th>\n",
              "      <th>parking</th>\n",
              "      <th>mainroad_yes</th>\n",
              "      <th>guestroom_yes</th>\n",
              "      <th>basement_yes</th>\n",
              "      <th>hotwaterheating_yes</th>\n",
              "      <th>airconditioning_yes</th>\n",
              "      <th>prefarea_yes</th>\n",
              "    </tr>\n",
              "  </thead>\n",
              "  <tbody>\n",
              "    <tr>\n",
              "      <th>0</th>\n",
              "      <td>7420</td>\n",
              "      <td>4</td>\n",
              "      <td>2</td>\n",
              "      <td>3</td>\n",
              "      <td>2</td>\n",
              "      <td>1</td>\n",
              "      <td>0</td>\n",
              "      <td>0</td>\n",
              "      <td>0</td>\n",
              "      <td>1</td>\n",
              "      <td>1</td>\n",
              "    </tr>\n",
              "    <tr>\n",
              "      <th>1</th>\n",
              "      <td>8960</td>\n",
              "      <td>4</td>\n",
              "      <td>4</td>\n",
              "      <td>4</td>\n",
              "      <td>3</td>\n",
              "      <td>1</td>\n",
              "      <td>0</td>\n",
              "      <td>0</td>\n",
              "      <td>0</td>\n",
              "      <td>1</td>\n",
              "      <td>0</td>\n",
              "    </tr>\n",
              "    <tr>\n",
              "      <th>2</th>\n",
              "      <td>9960</td>\n",
              "      <td>3</td>\n",
              "      <td>2</td>\n",
              "      <td>2</td>\n",
              "      <td>2</td>\n",
              "      <td>1</td>\n",
              "      <td>0</td>\n",
              "      <td>1</td>\n",
              "      <td>0</td>\n",
              "      <td>0</td>\n",
              "      <td>1</td>\n",
              "    </tr>\n",
              "    <tr>\n",
              "      <th>3</th>\n",
              "      <td>7500</td>\n",
              "      <td>4</td>\n",
              "      <td>2</td>\n",
              "      <td>2</td>\n",
              "      <td>3</td>\n",
              "      <td>1</td>\n",
              "      <td>0</td>\n",
              "      <td>1</td>\n",
              "      <td>0</td>\n",
              "      <td>1</td>\n",
              "      <td>1</td>\n",
              "    </tr>\n",
              "    <tr>\n",
              "      <th>4</th>\n",
              "      <td>7420</td>\n",
              "      <td>4</td>\n",
              "      <td>1</td>\n",
              "      <td>2</td>\n",
              "      <td>2</td>\n",
              "      <td>1</td>\n",
              "      <td>1</td>\n",
              "      <td>1</td>\n",
              "      <td>0</td>\n",
              "      <td>1</td>\n",
              "      <td>0</td>\n",
              "    </tr>\n",
              "  </tbody>\n",
              "</table>\n",
              "</div>\n",
              "      <button class=\"colab-df-convert\" onclick=\"convertToInteractive('df-374d41b3-5b71-4996-b8c2-9de280bb3c24')\"\n",
              "              title=\"Convert this dataframe to an interactive table.\"\n",
              "              style=\"display:none;\">\n",
              "        \n",
              "  <svg xmlns=\"http://www.w3.org/2000/svg\" height=\"24px\"viewBox=\"0 0 24 24\"\n",
              "       width=\"24px\">\n",
              "    <path d=\"M0 0h24v24H0V0z\" fill=\"none\"/>\n",
              "    <path d=\"M18.56 5.44l.94 2.06.94-2.06 2.06-.94-2.06-.94-.94-2.06-.94 2.06-2.06.94zm-11 1L8.5 8.5l.94-2.06 2.06-.94-2.06-.94L8.5 2.5l-.94 2.06-2.06.94zm10 10l.94 2.06.94-2.06 2.06-.94-2.06-.94-.94-2.06-.94 2.06-2.06.94z\"/><path d=\"M17.41 7.96l-1.37-1.37c-.4-.4-.92-.59-1.43-.59-.52 0-1.04.2-1.43.59L10.3 9.45l-7.72 7.72c-.78.78-.78 2.05 0 2.83L4 21.41c.39.39.9.59 1.41.59.51 0 1.02-.2 1.41-.59l7.78-7.78 2.81-2.81c.8-.78.8-2.07 0-2.86zM5.41 20L4 18.59l7.72-7.72 1.47 1.35L5.41 20z\"/>\n",
              "  </svg>\n",
              "      </button>\n",
              "      \n",
              "  <style>\n",
              "    .colab-df-container {\n",
              "      display:flex;\n",
              "      flex-wrap:wrap;\n",
              "      gap: 12px;\n",
              "    }\n",
              "\n",
              "    .colab-df-convert {\n",
              "      background-color: #E8F0FE;\n",
              "      border: none;\n",
              "      border-radius: 50%;\n",
              "      cursor: pointer;\n",
              "      display: none;\n",
              "      fill: #1967D2;\n",
              "      height: 32px;\n",
              "      padding: 0 0 0 0;\n",
              "      width: 32px;\n",
              "    }\n",
              "\n",
              "    .colab-df-convert:hover {\n",
              "      background-color: #E2EBFA;\n",
              "      box-shadow: 0px 1px 2px rgba(60, 64, 67, 0.3), 0px 1px 3px 1px rgba(60, 64, 67, 0.15);\n",
              "      fill: #174EA6;\n",
              "    }\n",
              "\n",
              "    [theme=dark] .colab-df-convert {\n",
              "      background-color: #3B4455;\n",
              "      fill: #D2E3FC;\n",
              "    }\n",
              "\n",
              "    [theme=dark] .colab-df-convert:hover {\n",
              "      background-color: #434B5C;\n",
              "      box-shadow: 0px 1px 3px 1px rgba(0, 0, 0, 0.15);\n",
              "      filter: drop-shadow(0px 1px 2px rgba(0, 0, 0, 0.3));\n",
              "      fill: #FFFFFF;\n",
              "    }\n",
              "  </style>\n",
              "\n",
              "      <script>\n",
              "        const buttonEl =\n",
              "          document.querySelector('#df-374d41b3-5b71-4996-b8c2-9de280bb3c24 button.colab-df-convert');\n",
              "        buttonEl.style.display =\n",
              "          google.colab.kernel.accessAllowed ? 'block' : 'none';\n",
              "\n",
              "        async function convertToInteractive(key) {\n",
              "          const element = document.querySelector('#df-374d41b3-5b71-4996-b8c2-9de280bb3c24');\n",
              "          const dataTable =\n",
              "            await google.colab.kernel.invokeFunction('convertToInteractive',\n",
              "                                                     [key], {});\n",
              "          if (!dataTable) return;\n",
              "\n",
              "          const docLinkHtml = 'Like what you see? Visit the ' +\n",
              "            '<a target=\"_blank\" href=https://colab.research.google.com/notebooks/data_table.ipynb>data table notebook</a>'\n",
              "            + ' to learn more about interactive tables.';\n",
              "          element.innerHTML = '';\n",
              "          dataTable['output_type'] = 'display_data';\n",
              "          await google.colab.output.renderOutput(dataTable, element);\n",
              "          const docLink = document.createElement('div');\n",
              "          docLink.innerHTML = docLinkHtml;\n",
              "          element.appendChild(docLink);\n",
              "        }\n",
              "      </script>\n",
              "    </div>\n",
              "  </div>\n",
              "  "
            ]
          },
          "metadata": {},
          "execution_count": 92
        }
      ]
    },
    {
      "cell_type": "code",
      "source": [
        "standardizer = preprocessing.StandardScaler().fit(x)\n",
        "x_std = standardizer.transform(x)\n",
        "normalizer = preprocessing.Normalizer().fit(x)\n",
        "x_norm = normalizer.transform(x)"
      ],
      "metadata": {
        "id": "00Pd0znTXXVE"
      },
      "execution_count": 93,
      "outputs": []
    },
    {
      "cell_type": "code",
      "source": [
        "pd.DataFrame(x_std[0:5])"
      ],
      "metadata": {
        "colab": {
          "base_uri": "https://localhost:8080/",
          "height": 206
        },
        "id": "WyXtx7zYXa_U",
        "outputId": "4fefb6ec-73fd-4ab0-d0dc-4521ae5264bb"
      },
      "execution_count": 94,
      "outputs": [
        {
          "output_type": "execute_result",
          "data": {
            "text/plain": [
              "         0         1         2         3         4         5         6   \\\n",
              "0  1.046726  1.403419  1.421812  1.378217  1.517692  0.405623 -0.465315   \n",
              "1  1.757010  1.403419  5.405809  2.532024  2.679409  0.405623 -0.465315   \n",
              "2  2.218232  0.047278  1.421812  0.224410  1.517692  0.405623 -0.465315   \n",
              "3  1.083624  1.403419  1.421812  0.224410  2.679409  0.405623 -0.465315   \n",
              "4  1.046726  1.403419 -0.570187  0.224410  1.517692  0.405623  2.149083   \n",
              "\n",
              "         7         8         9         10  \n",
              "0 -0.734539 -0.219265  1.472618  1.804941  \n",
              "1 -0.734539 -0.219265  1.472618 -0.554035  \n",
              "2  1.361397 -0.219265 -0.679063  1.804941  \n",
              "3  1.361397 -0.219265  1.472618  1.804941  \n",
              "4  1.361397 -0.219265  1.472618 -0.554035  "
            ],
            "text/html": [
              "\n",
              "  <div id=\"df-b191393e-8d18-434d-8c2f-fd88d9d66437\">\n",
              "    <div class=\"colab-df-container\">\n",
              "      <div>\n",
              "<style scoped>\n",
              "    .dataframe tbody tr th:only-of-type {\n",
              "        vertical-align: middle;\n",
              "    }\n",
              "\n",
              "    .dataframe tbody tr th {\n",
              "        vertical-align: top;\n",
              "    }\n",
              "\n",
              "    .dataframe thead th {\n",
              "        text-align: right;\n",
              "    }\n",
              "</style>\n",
              "<table border=\"1\" class=\"dataframe\">\n",
              "  <thead>\n",
              "    <tr style=\"text-align: right;\">\n",
              "      <th></th>\n",
              "      <th>0</th>\n",
              "      <th>1</th>\n",
              "      <th>2</th>\n",
              "      <th>3</th>\n",
              "      <th>4</th>\n",
              "      <th>5</th>\n",
              "      <th>6</th>\n",
              "      <th>7</th>\n",
              "      <th>8</th>\n",
              "      <th>9</th>\n",
              "      <th>10</th>\n",
              "    </tr>\n",
              "  </thead>\n",
              "  <tbody>\n",
              "    <tr>\n",
              "      <th>0</th>\n",
              "      <td>1.046726</td>\n",
              "      <td>1.403419</td>\n",
              "      <td>1.421812</td>\n",
              "      <td>1.378217</td>\n",
              "      <td>1.517692</td>\n",
              "      <td>0.405623</td>\n",
              "      <td>-0.465315</td>\n",
              "      <td>-0.734539</td>\n",
              "      <td>-0.219265</td>\n",
              "      <td>1.472618</td>\n",
              "      <td>1.804941</td>\n",
              "    </tr>\n",
              "    <tr>\n",
              "      <th>1</th>\n",
              "      <td>1.757010</td>\n",
              "      <td>1.403419</td>\n",
              "      <td>5.405809</td>\n",
              "      <td>2.532024</td>\n",
              "      <td>2.679409</td>\n",
              "      <td>0.405623</td>\n",
              "      <td>-0.465315</td>\n",
              "      <td>-0.734539</td>\n",
              "      <td>-0.219265</td>\n",
              "      <td>1.472618</td>\n",
              "      <td>-0.554035</td>\n",
              "    </tr>\n",
              "    <tr>\n",
              "      <th>2</th>\n",
              "      <td>2.218232</td>\n",
              "      <td>0.047278</td>\n",
              "      <td>1.421812</td>\n",
              "      <td>0.224410</td>\n",
              "      <td>1.517692</td>\n",
              "      <td>0.405623</td>\n",
              "      <td>-0.465315</td>\n",
              "      <td>1.361397</td>\n",
              "      <td>-0.219265</td>\n",
              "      <td>-0.679063</td>\n",
              "      <td>1.804941</td>\n",
              "    </tr>\n",
              "    <tr>\n",
              "      <th>3</th>\n",
              "      <td>1.083624</td>\n",
              "      <td>1.403419</td>\n",
              "      <td>1.421812</td>\n",
              "      <td>0.224410</td>\n",
              "      <td>2.679409</td>\n",
              "      <td>0.405623</td>\n",
              "      <td>-0.465315</td>\n",
              "      <td>1.361397</td>\n",
              "      <td>-0.219265</td>\n",
              "      <td>1.472618</td>\n",
              "      <td>1.804941</td>\n",
              "    </tr>\n",
              "    <tr>\n",
              "      <th>4</th>\n",
              "      <td>1.046726</td>\n",
              "      <td>1.403419</td>\n",
              "      <td>-0.570187</td>\n",
              "      <td>0.224410</td>\n",
              "      <td>1.517692</td>\n",
              "      <td>0.405623</td>\n",
              "      <td>2.149083</td>\n",
              "      <td>1.361397</td>\n",
              "      <td>-0.219265</td>\n",
              "      <td>1.472618</td>\n",
              "      <td>-0.554035</td>\n",
              "    </tr>\n",
              "  </tbody>\n",
              "</table>\n",
              "</div>\n",
              "      <button class=\"colab-df-convert\" onclick=\"convertToInteractive('df-b191393e-8d18-434d-8c2f-fd88d9d66437')\"\n",
              "              title=\"Convert this dataframe to an interactive table.\"\n",
              "              style=\"display:none;\">\n",
              "        \n",
              "  <svg xmlns=\"http://www.w3.org/2000/svg\" height=\"24px\"viewBox=\"0 0 24 24\"\n",
              "       width=\"24px\">\n",
              "    <path d=\"M0 0h24v24H0V0z\" fill=\"none\"/>\n",
              "    <path d=\"M18.56 5.44l.94 2.06.94-2.06 2.06-.94-2.06-.94-.94-2.06-.94 2.06-2.06.94zm-11 1L8.5 8.5l.94-2.06 2.06-.94-2.06-.94L8.5 2.5l-.94 2.06-2.06.94zm10 10l.94 2.06.94-2.06 2.06-.94-2.06-.94-.94-2.06-.94 2.06-2.06.94z\"/><path d=\"M17.41 7.96l-1.37-1.37c-.4-.4-.92-.59-1.43-.59-.52 0-1.04.2-1.43.59L10.3 9.45l-7.72 7.72c-.78.78-.78 2.05 0 2.83L4 21.41c.39.39.9.59 1.41.59.51 0 1.02-.2 1.41-.59l7.78-7.78 2.81-2.81c.8-.78.8-2.07 0-2.86zM5.41 20L4 18.59l7.72-7.72 1.47 1.35L5.41 20z\"/>\n",
              "  </svg>\n",
              "      </button>\n",
              "      \n",
              "  <style>\n",
              "    .colab-df-container {\n",
              "      display:flex;\n",
              "      flex-wrap:wrap;\n",
              "      gap: 12px;\n",
              "    }\n",
              "\n",
              "    .colab-df-convert {\n",
              "      background-color: #E8F0FE;\n",
              "      border: none;\n",
              "      border-radius: 50%;\n",
              "      cursor: pointer;\n",
              "      display: none;\n",
              "      fill: #1967D2;\n",
              "      height: 32px;\n",
              "      padding: 0 0 0 0;\n",
              "      width: 32px;\n",
              "    }\n",
              "\n",
              "    .colab-df-convert:hover {\n",
              "      background-color: #E2EBFA;\n",
              "      box-shadow: 0px 1px 2px rgba(60, 64, 67, 0.3), 0px 1px 3px 1px rgba(60, 64, 67, 0.15);\n",
              "      fill: #174EA6;\n",
              "    }\n",
              "\n",
              "    [theme=dark] .colab-df-convert {\n",
              "      background-color: #3B4455;\n",
              "      fill: #D2E3FC;\n",
              "    }\n",
              "\n",
              "    [theme=dark] .colab-df-convert:hover {\n",
              "      background-color: #434B5C;\n",
              "      box-shadow: 0px 1px 3px 1px rgba(0, 0, 0, 0.15);\n",
              "      filter: drop-shadow(0px 1px 2px rgba(0, 0, 0, 0.3));\n",
              "      fill: #FFFFFF;\n",
              "    }\n",
              "  </style>\n",
              "\n",
              "      <script>\n",
              "        const buttonEl =\n",
              "          document.querySelector('#df-b191393e-8d18-434d-8c2f-fd88d9d66437 button.colab-df-convert');\n",
              "        buttonEl.style.display =\n",
              "          google.colab.kernel.accessAllowed ? 'block' : 'none';\n",
              "\n",
              "        async function convertToInteractive(key) {\n",
              "          const element = document.querySelector('#df-b191393e-8d18-434d-8c2f-fd88d9d66437');\n",
              "          const dataTable =\n",
              "            await google.colab.kernel.invokeFunction('convertToInteractive',\n",
              "                                                     [key], {});\n",
              "          if (!dataTable) return;\n",
              "\n",
              "          const docLinkHtml = 'Like what you see? Visit the ' +\n",
              "            '<a target=\"_blank\" href=https://colab.research.google.com/notebooks/data_table.ipynb>data table notebook</a>'\n",
              "            + ' to learn more about interactive tables.';\n",
              "          element.innerHTML = '';\n",
              "          dataTable['output_type'] = 'display_data';\n",
              "          await google.colab.output.renderOutput(dataTable, element);\n",
              "          const docLink = document.createElement('div');\n",
              "          docLink.innerHTML = docLinkHtml;\n",
              "          element.appendChild(docLink);\n",
              "        }\n",
              "      </script>\n",
              "    </div>\n",
              "  </div>\n",
              "  "
            ]
          },
          "metadata": {},
          "execution_count": 94
        }
      ]
    },
    {
      "cell_type": "code",
      "source": [
        "pd.DataFrame(x_norm[0:5])"
      ],
      "metadata": {
        "colab": {
          "base_uri": "https://localhost:8080/",
          "height": 206
        },
        "id": "NSAck-vUXb2K",
        "outputId": "182e5ead-3d2f-4bf6-b150-9ddd6f9ba323"
      },
      "execution_count": 95,
      "outputs": [
        {
          "output_type": "execute_result",
          "data": {
            "text/plain": [
              "    0         1         2         3         4         5         6         7   \\\n",
              "0  1.0  0.000539  0.000270  0.000404  0.000270  0.000135  0.000000  0.000000   \n",
              "1  1.0  0.000446  0.000446  0.000446  0.000335  0.000112  0.000000  0.000000   \n",
              "2  1.0  0.000301  0.000201  0.000201  0.000201  0.000100  0.000000  0.000100   \n",
              "3  1.0  0.000533  0.000267  0.000267  0.000400  0.000133  0.000000  0.000133   \n",
              "4  1.0  0.000539  0.000135  0.000270  0.000270  0.000135  0.000135  0.000135   \n",
              "\n",
              "    8         9         10  \n",
              "0  0.0  0.000135  0.000135  \n",
              "1  0.0  0.000112  0.000000  \n",
              "2  0.0  0.000000  0.000100  \n",
              "3  0.0  0.000133  0.000133  \n",
              "4  0.0  0.000135  0.000000  "
            ],
            "text/html": [
              "\n",
              "  <div id=\"df-b38dc0e4-e70b-4eab-9ad8-114cad870585\">\n",
              "    <div class=\"colab-df-container\">\n",
              "      <div>\n",
              "<style scoped>\n",
              "    .dataframe tbody tr th:only-of-type {\n",
              "        vertical-align: middle;\n",
              "    }\n",
              "\n",
              "    .dataframe tbody tr th {\n",
              "        vertical-align: top;\n",
              "    }\n",
              "\n",
              "    .dataframe thead th {\n",
              "        text-align: right;\n",
              "    }\n",
              "</style>\n",
              "<table border=\"1\" class=\"dataframe\">\n",
              "  <thead>\n",
              "    <tr style=\"text-align: right;\">\n",
              "      <th></th>\n",
              "      <th>0</th>\n",
              "      <th>1</th>\n",
              "      <th>2</th>\n",
              "      <th>3</th>\n",
              "      <th>4</th>\n",
              "      <th>5</th>\n",
              "      <th>6</th>\n",
              "      <th>7</th>\n",
              "      <th>8</th>\n",
              "      <th>9</th>\n",
              "      <th>10</th>\n",
              "    </tr>\n",
              "  </thead>\n",
              "  <tbody>\n",
              "    <tr>\n",
              "      <th>0</th>\n",
              "      <td>1.0</td>\n",
              "      <td>0.000539</td>\n",
              "      <td>0.000270</td>\n",
              "      <td>0.000404</td>\n",
              "      <td>0.000270</td>\n",
              "      <td>0.000135</td>\n",
              "      <td>0.000000</td>\n",
              "      <td>0.000000</td>\n",
              "      <td>0.0</td>\n",
              "      <td>0.000135</td>\n",
              "      <td>0.000135</td>\n",
              "    </tr>\n",
              "    <tr>\n",
              "      <th>1</th>\n",
              "      <td>1.0</td>\n",
              "      <td>0.000446</td>\n",
              "      <td>0.000446</td>\n",
              "      <td>0.000446</td>\n",
              "      <td>0.000335</td>\n",
              "      <td>0.000112</td>\n",
              "      <td>0.000000</td>\n",
              "      <td>0.000000</td>\n",
              "      <td>0.0</td>\n",
              "      <td>0.000112</td>\n",
              "      <td>0.000000</td>\n",
              "    </tr>\n",
              "    <tr>\n",
              "      <th>2</th>\n",
              "      <td>1.0</td>\n",
              "      <td>0.000301</td>\n",
              "      <td>0.000201</td>\n",
              "      <td>0.000201</td>\n",
              "      <td>0.000201</td>\n",
              "      <td>0.000100</td>\n",
              "      <td>0.000000</td>\n",
              "      <td>0.000100</td>\n",
              "      <td>0.0</td>\n",
              "      <td>0.000000</td>\n",
              "      <td>0.000100</td>\n",
              "    </tr>\n",
              "    <tr>\n",
              "      <th>3</th>\n",
              "      <td>1.0</td>\n",
              "      <td>0.000533</td>\n",
              "      <td>0.000267</td>\n",
              "      <td>0.000267</td>\n",
              "      <td>0.000400</td>\n",
              "      <td>0.000133</td>\n",
              "      <td>0.000000</td>\n",
              "      <td>0.000133</td>\n",
              "      <td>0.0</td>\n",
              "      <td>0.000133</td>\n",
              "      <td>0.000133</td>\n",
              "    </tr>\n",
              "    <tr>\n",
              "      <th>4</th>\n",
              "      <td>1.0</td>\n",
              "      <td>0.000539</td>\n",
              "      <td>0.000135</td>\n",
              "      <td>0.000270</td>\n",
              "      <td>0.000270</td>\n",
              "      <td>0.000135</td>\n",
              "      <td>0.000135</td>\n",
              "      <td>0.000135</td>\n",
              "      <td>0.0</td>\n",
              "      <td>0.000135</td>\n",
              "      <td>0.000000</td>\n",
              "    </tr>\n",
              "  </tbody>\n",
              "</table>\n",
              "</div>\n",
              "      <button class=\"colab-df-convert\" onclick=\"convertToInteractive('df-b38dc0e4-e70b-4eab-9ad8-114cad870585')\"\n",
              "              title=\"Convert this dataframe to an interactive table.\"\n",
              "              style=\"display:none;\">\n",
              "        \n",
              "  <svg xmlns=\"http://www.w3.org/2000/svg\" height=\"24px\"viewBox=\"0 0 24 24\"\n",
              "       width=\"24px\">\n",
              "    <path d=\"M0 0h24v24H0V0z\" fill=\"none\"/>\n",
              "    <path d=\"M18.56 5.44l.94 2.06.94-2.06 2.06-.94-2.06-.94-.94-2.06-.94 2.06-2.06.94zm-11 1L8.5 8.5l.94-2.06 2.06-.94-2.06-.94L8.5 2.5l-.94 2.06-2.06.94zm10 10l.94 2.06.94-2.06 2.06-.94-2.06-.94-.94-2.06-.94 2.06-2.06.94z\"/><path d=\"M17.41 7.96l-1.37-1.37c-.4-.4-.92-.59-1.43-.59-.52 0-1.04.2-1.43.59L10.3 9.45l-7.72 7.72c-.78.78-.78 2.05 0 2.83L4 21.41c.39.39.9.59 1.41.59.51 0 1.02-.2 1.41-.59l7.78-7.78 2.81-2.81c.8-.78.8-2.07 0-2.86zM5.41 20L4 18.59l7.72-7.72 1.47 1.35L5.41 20z\"/>\n",
              "  </svg>\n",
              "      </button>\n",
              "      \n",
              "  <style>\n",
              "    .colab-df-container {\n",
              "      display:flex;\n",
              "      flex-wrap:wrap;\n",
              "      gap: 12px;\n",
              "    }\n",
              "\n",
              "    .colab-df-convert {\n",
              "      background-color: #E8F0FE;\n",
              "      border: none;\n",
              "      border-radius: 50%;\n",
              "      cursor: pointer;\n",
              "      display: none;\n",
              "      fill: #1967D2;\n",
              "      height: 32px;\n",
              "      padding: 0 0 0 0;\n",
              "      width: 32px;\n",
              "    }\n",
              "\n",
              "    .colab-df-convert:hover {\n",
              "      background-color: #E2EBFA;\n",
              "      box-shadow: 0px 1px 2px rgba(60, 64, 67, 0.3), 0px 1px 3px 1px rgba(60, 64, 67, 0.15);\n",
              "      fill: #174EA6;\n",
              "    }\n",
              "\n",
              "    [theme=dark] .colab-df-convert {\n",
              "      background-color: #3B4455;\n",
              "      fill: #D2E3FC;\n",
              "    }\n",
              "\n",
              "    [theme=dark] .colab-df-convert:hover {\n",
              "      background-color: #434B5C;\n",
              "      box-shadow: 0px 1px 3px 1px rgba(0, 0, 0, 0.15);\n",
              "      filter: drop-shadow(0px 1px 2px rgba(0, 0, 0, 0.3));\n",
              "      fill: #FFFFFF;\n",
              "    }\n",
              "  </style>\n",
              "\n",
              "      <script>\n",
              "        const buttonEl =\n",
              "          document.querySelector('#df-b38dc0e4-e70b-4eab-9ad8-114cad870585 button.colab-df-convert');\n",
              "        buttonEl.style.display =\n",
              "          google.colab.kernel.accessAllowed ? 'block' : 'none';\n",
              "\n",
              "        async function convertToInteractive(key) {\n",
              "          const element = document.querySelector('#df-b38dc0e4-e70b-4eab-9ad8-114cad870585');\n",
              "          const dataTable =\n",
              "            await google.colab.kernel.invokeFunction('convertToInteractive',\n",
              "                                                     [key], {});\n",
              "          if (!dataTable) return;\n",
              "\n",
              "          const docLinkHtml = 'Like what you see? Visit the ' +\n",
              "            '<a target=\"_blank\" href=https://colab.research.google.com/notebooks/data_table.ipynb>data table notebook</a>'\n",
              "            + ' to learn more about interactive tables.';\n",
              "          element.innerHTML = '';\n",
              "          dataTable['output_type'] = 'display_data';\n",
              "          await google.colab.output.renderOutput(dataTable, element);\n",
              "          const docLink = document.createElement('div');\n",
              "          docLink.innerHTML = docLinkHtml;\n",
              "          element.appendChild(docLink);\n",
              "        }\n",
              "      </script>\n",
              "    </div>\n",
              "  </div>\n",
              "  "
            ]
          },
          "metadata": {},
          "execution_count": 95
        }
      ]
    },
    {
      "cell_type": "code",
      "source": [
        "x_train, x_test, y_train, y_test = train_test_split(x_std, y_std, test_size = 0.2)\n",
        "samples = len(y_train)\n",
        "test_samples = len(y_test)\n",
        "x0_train = np.ones((samples, 1))\n",
        "x_train = np.hstack((x0_train, x_train)) \n",
        "x0_test = np.ones((test_samples, 1))\n",
        "x_test = np.hstack((x0_test, x_test)) \n",
        "theta = np.zeros(12)\n",
        "theta = theta.reshape(12,1)\n",
        "theta"
      ],
      "metadata": {
        "colab": {
          "base_uri": "https://localhost:8080/",
          "height": 0
        },
        "id": "Idw6Gl_fXeSP",
        "outputId": "f2b4f3b7-3df0-4a98-c59b-8626b439de84"
      },
      "execution_count": 101,
      "outputs": [
        {
          "output_type": "execute_result",
          "data": {
            "text/plain": [
              "array([[0.],\n",
              "       [0.],\n",
              "       [0.],\n",
              "       [0.],\n",
              "       [0.],\n",
              "       [0.],\n",
              "       [0.],\n",
              "       [0.],\n",
              "       [0.],\n",
              "       [0.],\n",
              "       [0.],\n",
              "       [0.]])"
            ]
          },
          "metadata": {},
          "execution_count": 101
        }
      ]
    },
    {
      "cell_type": "code",
      "source": [
        "iterations = 1500\n",
        "theta,train_loss,val_loss = gradient_descent_with_validation(x_train,y_train,x_test,y_test,theta,lr,iterations)\n",
        "print(\"Theta values, 2b, standardized regression: \",theta)\n",
        "print(\"Training loss history, 2b, standardized regression: \", train_loss)\n",
        "print(\"Validation loss history, 2b, standardized regression: \", val_loss)"
      ],
      "metadata": {
        "colab": {
          "base_uri": "https://localhost:8080/",
          "height": 0
        },
        "id": "zl_njU62XhvO",
        "outputId": "55baf94b-1e0e-46e6-83b7-06587f92fc35"
      },
      "execution_count": 102,
      "outputs": [
        {
          "output_type": "stream",
          "name": "stdout",
          "text": [
            "Theta values, 2b, standardized regression:  [[0.00713747]\n",
            " [0.31301165]\n",
            " [0.04846658]\n",
            " [0.28073616]\n",
            " [0.20592493]\n",
            " [0.13755795]\n",
            " [0.08743239]\n",
            " [0.05318803]\n",
            " [0.08947716]\n",
            " [0.08996967]\n",
            " [0.20719988]\n",
            " [0.14067724]]\n",
            "Training loss history, 2b, standardized regression:  [0.37071055 0.28833988 0.24032342 ... 0.16527465 0.16527465 0.16527465]\n",
            "Validation loss history, 2b, standardized regression:  [0.08181292 0.06411524 0.05382338 ... 0.03969169 0.03969169 0.03969169]\n"
          ]
        }
      ]
    },
    {
      "cell_type": "code",
      "source": [
        "plt.plot(range(1, iterations + 1), train_loss, color='blue') \n",
        "plt.rcParams[\"figure.figsize\"] = (10,6) \n",
        "plt.grid() \n",
        "plt.xlabel('Number of Iterations') \n",
        "plt.ylabel('Loss') \n",
        "plt.title('2b Standardized Set Training Loss') "
      ],
      "metadata": {
        "colab": {
          "base_uri": "https://localhost:8080/",
          "height": 421
        },
        "id": "WfHBPevAXwyd",
        "outputId": "4620d77d-f316-4aa1-8e0c-3e86edd83fa2"
      },
      "execution_count": 103,
      "outputs": [
        {
          "output_type": "execute_result",
          "data": {
            "text/plain": [
              "Text(0.5, 1.0, '2b Standardized Set Training Loss')"
            ]
          },
          "metadata": {},
          "execution_count": 103
        },
        {
          "output_type": "display_data",
          "data": {
            "text/plain": [
              "<Figure size 720x432 with 1 Axes>"
            ],
            "image/png": "[encoded data removed]"
          },
          "metadata": {
            "needs_background": "light"
          }
        }
      ]
    },
    {
      "cell_type": "code",
      "source": [
        "plt.plot(range(1, iterations + 1), val_loss, color='blue') \n",
        "plt.rcParams[\"figure.figsize\"] = (10,6) \n",
        "plt.grid() \n",
        "plt.xlabel('Number of Iterations') \n",
        "plt.ylabel('Loss') \n",
        "plt.title('2b Standardized Set Validation Loss')"
      ],
      "metadata": {
        "colab": {
          "base_uri": "https://localhost:8080/",
          "height": 421
        },
        "id": "qYcTySbgX8ED",
        "outputId": "c079d368-465d-4522-c630-9e8c208fc8fd"
      },
      "execution_count": 104,
      "outputs": [
        {
          "output_type": "execute_result",
          "data": {
            "text/plain": [
              "Text(0.5, 1.0, '2b Standardized Set Validation Loss')"
            ]
          },
          "metadata": {},
          "execution_count": 104
        },
        {
          "output_type": "display_data",
          "data": {
            "text/plain": [
              "<Figure size 720x432 with 1 Axes>"
            ],
            "image/png": "[encoded data removed]"
          },
          "metadata": {
            "needs_background": "light"
          }
        }
      ]
    },
    {
      "cell_type": "code",
      "source": [
        "x_train, x_test, y_train, y_test = train_test_split(x_norm, y_norm, test_size = 0.2)\n",
        "samples = len(y_train)\n",
        "test_samples = len(y_test)\n",
        "x0_train = np.ones((samples, 1))\n",
        "x_train = np.hstack((x0_train, x_train)) \n",
        "x0_test = np.ones((test_samples, 1))\n",
        "x_test = np.hstack((x0_test, x_test)) \n",
        "theta = np.zeros(12)\n",
        "theta = theta.reshape(12,1)\n",
        "theta"
      ],
      "metadata": {
        "colab": {
          "base_uri": "https://localhost:8080/",
          "height": 0
        },
        "id": "7n95_-pAYC1r",
        "outputId": "ca364815-7eb4-4d96-94a4-0fbb57c975f6"
      },
      "execution_count": 105,
      "outputs": [
        {
          "output_type": "execute_result",
          "data": {
            "text/plain": [
              "array([[0.],\n",
              "       [0.],\n",
              "       [0.],\n",
              "       [0.],\n",
              "       [0.],\n",
              "       [0.],\n",
              "       [0.],\n",
              "       [0.],\n",
              "       [0.],\n",
              "       [0.],\n",
              "       [0.],\n",
              "       [0.]])"
            ]
          },
          "metadata": {},
          "execution_count": 105
        }
      ]
    },
    {
      "cell_type": "code",
      "source": [
        "iterations = 1500\n",
        "theta,train_loss,val_loss = gradient_descent_with_validation(x_train,y_train,x_test,y_test,theta,lr,iterations)\n",
        "print(\"Theta values, 2b, normalized regression: \",theta)\n",
        "print(\"Training loss history, 2b, normalized regression: \", train_loss)\n",
        "print(\"Validation loss history, 2b, normalized regression: \", val_loss)"
      ],
      "metadata": {
        "colab": {
          "base_uri": "https://localhost:8080/",
          "height": 0
        },
        "id": "JwajPbAhYFGZ",
        "outputId": "962bbfd6-20c4-4625-997e-22bc86442a8b"
      },
      "execution_count": 106,
      "outputs": [
        {
          "output_type": "stream",
          "name": "stdout",
          "text": [
            "Theta values, 2b, normalized regression:  [[ 2.00097539e-02]\n",
            " [ 2.00099707e-02]\n",
            " [-2.09396365e-04]\n",
            " [-2.93309633e-05]\n",
            " [-3.72627647e-05]\n",
            " [ 9.58293270e-05]\n",
            " [-3.65246758e-05]\n",
            " [ 3.00290485e-05]\n",
            " [ 9.19799148e-06]\n",
            " [ 3.97882759e-06]\n",
            " [ 6.61585764e-05]\n",
            " [ 2.62186256e-05]]\n",
            "Training loss history, 2b, normalized regression:  [0.00063663 0.00045213 0.00033405 ... 0.00012413 0.00012413 0.00012413]\n",
            "Validation loss history, 2b, normalized regression:  [1.51202601e-04 1.06193240e-04 7.75657627e-05 ... 2.86558930e-05\n",
            " 2.86558929e-05 2.86558929e-05]\n"
          ]
        }
      ]
    },
    {
      "cell_type": "code",
      "source": [
        "plt.plot(range(1, iterations + 1), train_loss, color='blue') \n",
        "plt.rcParams[\"figure.figsize\"] = (10,6) \n",
        "plt.grid() \n",
        "plt.xlabel('Number of Iterations') \n",
        "plt.ylabel('Loss') \n",
        "plt.title('2b Normalized Set Training Loss') "
      ],
      "metadata": {
        "colab": {
          "base_uri": "https://localhost:8080/",
          "height": 421
        },
        "id": "seFlneeFYPo7",
        "outputId": "2d14a155-3598-47d7-d711-c0fde1dee794"
      },
      "execution_count": 107,
      "outputs": [
        {
          "output_type": "execute_result",
          "data": {
            "text/plain": [
              "Text(0.5, 1.0, '2b Normalized Set Training Loss')"
            ]
          },
          "metadata": {},
          "execution_count": 107
        },
        {
          "output_type": "display_data",
          "data": {
            "text/plain": [
              "<Figure size 720x432 with 1 Axes>"
            ],
            "image/png": "[encoded data removed]"
          },
          "metadata": {
            "needs_background": "light"
          }
        }
      ]
    },
    {
      "cell_type": "code",
      "source": [
        "plt.plot(range(1, iterations + 1), val_loss, color='blue') \n",
        "plt.rcParams[\"figure.figsize\"] = (10,6) \n",
        "plt.grid() \n",
        "plt.xlabel('Number of Iterations') \n",
        "plt.ylabel('Loss') \n",
        "plt.title('2b Normalized Set Validation Loss')"
      ],
      "metadata": {
        "colab": {
          "base_uri": "https://localhost:8080/",
          "height": 421
        },
        "id": "9a6N7iJXYXrT",
        "outputId": "f60d5326-09f1-4d1e-bab0-5eaf96f712a4"
      },
      "execution_count": 108,
      "outputs": [
        {
          "output_type": "execute_result",
          "data": {
            "text/plain": [
              "Text(0.5, 1.0, '2b Normalized Set Validation Loss')"
            ]
          },
          "metadata": {},
          "execution_count": 108
        },
        {
          "output_type": "display_data",
          "data": {
            "text/plain": [
              "<Figure size 720x432 with 1 Axes>"
            ],
            "image/png": "[encoded data removed]"
          },
          "metadata": {
            "needs_background": "light"
          }
        }
      ]
    },
    {
      "cell_type": "markdown",
      "source": [
        "Problem 3"
      ],
      "metadata": {
        "id": "sbTvapxJYfgW"
      }
    },
    {
      "cell_type": "code",
      "source": [
        "def gradient_descent_parameter_penalties(X, Y, Xval, Yval, theta, lr, iterations, Lambda): \n",
        "    history = np.zeros(iterations) \n",
        "    val_history = np.zeros(iterations)\n",
        "    for i in range(iterations): \n",
        "        preds = X.dot(theta) #samples x 1 \n",
        "        errors = np.subtract(preds, Y)  #samples x 1\n",
        "        sum_delta = (lr / samples) * X.transpose().dot(errors) #(variables+1) x 1\n",
        "        theta = (1-lr*Lambda/samples)*theta - sum_delta; #(variables+1) x 1\n",
        "        history[i] = compute_loss(X, Y, theta) \n",
        "        val_history[i] = compute_loss(Xval, Yval, theta)\n",
        "\n",
        "    return theta, history, val_history"
      ],
      "metadata": {
        "id": "eHFH8rzPYiHi"
      },
      "execution_count": 109,
      "outputs": []
    },
    {
      "cell_type": "markdown",
      "source": [
        "3a"
      ],
      "metadata": {
        "id": "kYqCiQ5SYnY-"
      }
    },
    {
      "cell_type": "code",
      "source": [
        "lr = 0.1\n",
        "Lambda = 0.01"
      ],
      "metadata": {
        "id": "EY_3e4DFYoO-"
      },
      "execution_count": 110,
      "outputs": []
    },
    {
      "cell_type": "code",
      "source": [
        "x = hf[['area', 'bedrooms', 'bathrooms', 'stories', 'parking']]\n",
        "standardizer = preprocessing.StandardScaler().fit(x)\n",
        "x_std = standardizer.transform(x)\n",
        "normalizer = preprocessing.Normalizer().fit(x)\n",
        "x_norm = normalizer.transform(x)"
      ],
      "metadata": {
        "id": "KLO_rrmwYuRx"
      },
      "execution_count": 111,
      "outputs": []
    },
    {
      "cell_type": "code",
      "source": [
        "y = hf[['price']]\n",
        "standardizer = preprocessing.StandardScaler().fit(y)\n",
        "y_std = standardizer.transform(y)\n",
        "y_norm = preprocessing.normalize(y,axis=0)"
      ],
      "metadata": {
        "id": "xx8dy5EbYzik"
      },
      "execution_count": 112,
      "outputs": []
    },
    {
      "cell_type": "code",
      "source": [
        "x_train, x_test, y_train, y_test = train_test_split(x_norm, y_norm, test_size = 0.2)\n",
        "samples = len(y_train)\n",
        "test_samples = len(y_test)\n",
        "x0_train = np.ones((samples, 1))\n",
        "x_train = np.hstack((x0_train, x_train)) \n",
        "x0_test = np.ones((test_samples, 1))\n",
        "x_test = np.hstack((x0_test, x_test)) \n",
        "theta = np.zeros(6)\n",
        "theta = theta.reshape(6,1)\n",
        "theta"
      ],
      "metadata": {
        "colab": {
          "base_uri": "https://localhost:8080/",
          "height": 0
        },
        "id": "-G5nk5G7Y3Op",
        "outputId": "87af94be-bfd7-44f0-ca79-f7343068892e"
      },
      "execution_count": 121,
      "outputs": [
        {
          "output_type": "execute_result",
          "data": {
            "text/plain": [
              "array([[0.],\n",
              "       [0.],\n",
              "       [0.],\n",
              "       [0.],\n",
              "       [0.],\n",
              "       [0.]])"
            ]
          },
          "metadata": {},
          "execution_count": 121
        }
      ]
    },
    {
      "cell_type": "code",
      "source": [
        "iterations = 1500\n",
        "theta,train_loss,val_loss = gradient_descent_parameter_penalties(x_train,y_train,x_test,y_test,theta,lr,iterations,Lambda)\n",
        "print(\"Theta values, 3a, normalized regression: \",theta)\n",
        "print(\"Training loss history, 3a, normalized regression: \", train_loss)\n",
        "print(\"Validation loss history, 3a, normalized regression: \", val_loss)"
      ],
      "metadata": {
        "colab": {
          "base_uri": "https://localhost:8080/",
          "height": 0
        },
        "id": "3MafD3ERY5qR",
        "outputId": "b012f63d-4aa8-4b4c-8ff5-7891afd5ffcc"
      },
      "execution_count": 122,
      "outputs": [
        {
          "output_type": "stream",
          "name": "stdout",
          "text": [
            "Theta values, 3a, normalized regression:  [[ 1.98215877e-02]\n",
            " [ 1.98217919e-02]\n",
            " [-2.05426988e-04]\n",
            " [-3.31314198e-05]\n",
            " [-3.88894503e-05]\n",
            " [ 9.41815980e-05]]\n",
            "Training loss history, 3a, normalized regression:  [0.00062587 0.00044482 0.00032895 ... 0.00012295 0.00012295 0.00012295]\n",
            "Validation loss history, 3a, normalized regression:  [1.64963098e-04 1.17825449e-04 8.73573948e-05 ... 2.98580409e-05\n",
            " 2.98580409e-05 2.98580408e-05]\n"
          ]
        }
      ]
    },
    {
      "cell_type": "code",
      "source": [
        "plt.plot(range(1, iterations + 1), train_loss, color='blue') \n",
        "plt.rcParams[\"figure.figsize\"] = (10,6) \n",
        "plt.grid() \n",
        "plt.xlabel('Number of Iterations') \n",
        "plt.ylabel('Loss') \n",
        "plt.title('3a Normalized Set Training Loss') "
      ],
      "metadata": {
        "colab": {
          "base_uri": "https://localhost:8080/",
          "height": 421
        },
        "id": "90vkW2xiZBhs",
        "outputId": "e34c769f-7b3d-4d66-f1d2-20c89c231c63"
      },
      "execution_count": 124,
      "outputs": [
        {
          "output_type": "execute_result",
          "data": {
            "text/plain": [
              "Text(0.5, 1.0, '3a Normalized Set Training Loss')"
            ]
          },
          "metadata": {},
          "execution_count": 124
        },
        {
          "output_type": "display_data",
          "data": {
            "text/plain": [
              "<Figure size 720x432 with 1 Axes>"
            ],
            "image/png": "[encoded data removed]"
          },
          "metadata": {
            "needs_background": "light"
          }
        }
      ]
    },
    {
      "cell_type": "code",
      "source": [
        "plt.plot(range(1, iterations + 1), val_loss, color='blue') \n",
        "plt.rcParams[\"figure.figsize\"] = (10,6) \n",
        "plt.grid() \n",
        "plt.xlabel('Number of Iterations') \n",
        "plt.ylabel('Loss') \n",
        "plt.title('3a Normalized Set Validation Loss') "
      ],
      "metadata": {
        "colab": {
          "base_uri": "https://localhost:8080/",
          "height": 421
        },
        "id": "yDFyH5asZeZm",
        "outputId": "2135e6a9-d378-47c4-86be-2e4dc5baae36"
      },
      "execution_count": 125,
      "outputs": [
        {
          "output_type": "execute_result",
          "data": {
            "text/plain": [
              "Text(0.5, 1.0, '3a Normalized Set Validation Loss')"
            ]
          },
          "metadata": {},
          "execution_count": 125
        },
        {
          "output_type": "display_data",
          "data": {
            "text/plain": [
              "<Figure size 720x432 with 1 Axes>"
            ],
            "image/png": "[encoded data removed]"
          },
          "metadata": {
            "needs_background": "light"
          }
        }
      ]
    },
    {
      "cell_type": "markdown",
      "source": [
        "3b"
      ],
      "metadata": {
        "id": "bTup7mc4ZnpM"
      }
    },
    {
      "cell_type": "code",
      "source": [
        "x = hf[['area', 'bedrooms', 'bathrooms', 'stories', 'mainroad', 'guestroom', 'basement', \n",
        "        'hotwaterheating', 'airconditioning', 'parking', 'prefarea']]\n",
        "x = pd.get_dummies(x,drop_first = True)\n",
        "x.head()"
      ],
      "metadata": {
        "colab": {
          "base_uri": "https://localhost:8080/",
          "height": 206
        },
        "id": "-tOx7HGiZpS0",
        "outputId": "95a93ab8-1ed9-4f21-b3ad-e4dd2bfa6371"
      },
      "execution_count": 126,
      "outputs": [
        {
          "output_type": "execute_result",
          "data": {
            "text/plain": [
              "   area  bedrooms  bathrooms  stories  parking  mainroad_yes  guestroom_yes  \\\n",
              "0  7420         4          2        3        2             1              0   \n",
              "1  8960         4          4        4        3             1              0   \n",
              "2  9960         3          2        2        2             1              0   \n",
              "3  7500         4          2        2        3             1              0   \n",
              "4  7420         4          1        2        2             1              1   \n",
              "\n",
              "   basement_yes  hotwaterheating_yes  airconditioning_yes  prefarea_yes  \n",
              "0             0                    0                    1             1  \n",
              "1             0                    0                    1             0  \n",
              "2             1                    0                    0             1  \n",
              "3             1                    0                    1             1  \n",
              "4             1                    0                    1             0  "
            ],
            "text/html": [
              "\n",
              "  <div id=\"df-f1e9f3a1-2364-499d-9378-b0aea097247b\">\n",
              "    <div class=\"colab-df-container\">\n",
              "      <div>\n",
              "<style scoped>\n",
              "    .dataframe tbody tr th:only-of-type {\n",
              "        vertical-align: middle;\n",
              "    }\n",
              "\n",
              "    .dataframe tbody tr th {\n",
              "        vertical-align: top;\n",
              "    }\n",
              "\n",
              "    .dataframe thead th {\n",
              "        text-align: right;\n",
              "    }\n",
              "</style>\n",
              "<table border=\"1\" class=\"dataframe\">\n",
              "  <thead>\n",
              "    <tr style=\"text-align: right;\">\n",
              "      <th></th>\n",
              "      <th>area</th>\n",
              "      <th>bedrooms</th>\n",
              "      <th>bathrooms</th>\n",
              "      <th>stories</th>\n",
              "      <th>parking</th>\n",
              "      <th>mainroad_yes</th>\n",
              "      <th>guestroom_yes</th>\n",
              "      <th>basement_yes</th>\n",
              "      <th>hotwaterheating_yes</th>\n",
              "      <th>airconditioning_yes</th>\n",
              "      <th>prefarea_yes</th>\n",
              "    </tr>\n",
              "  </thead>\n",
              "  <tbody>\n",
              "    <tr>\n",
              "      <th>0</th>\n",
              "      <td>7420</td>\n",
              "      <td>4</td>\n",
              "      <td>2</td>\n",
              "      <td>3</td>\n",
              "      <td>2</td>\n",
              "      <td>1</td>\n",
              "      <td>0</td>\n",
              "      <td>0</td>\n",
              "      <td>0</td>\n",
              "      <td>1</td>\n",
              "      <td>1</td>\n",
              "    </tr>\n",
              "    <tr>\n",
              "      <th>1</th>\n",
              "      <td>8960</td>\n",
              "      <td>4</td>\n",
              "      <td>4</td>\n",
              "      <td>4</td>\n",
              "      <td>3</td>\n",
              "      <td>1</td>\n",
              "      <td>0</td>\n",
              "      <td>0</td>\n",
              "      <td>0</td>\n",
              "      <td>1</td>\n",
              "      <td>0</td>\n",
              "    </tr>\n",
              "    <tr>\n",
              "      <th>2</th>\n",
              "      <td>9960</td>\n",
              "      <td>3</td>\n",
              "      <td>2</td>\n",
              "      <td>2</td>\n",
              "      <td>2</td>\n",
              "      <td>1</td>\n",
              "      <td>0</td>\n",
              "      <td>1</td>\n",
              "      <td>0</td>\n",
              "      <td>0</td>\n",
              "      <td>1</td>\n",
              "    </tr>\n",
              "    <tr>\n",
              "      <th>3</th>\n",
              "      <td>7500</td>\n",
              "      <td>4</td>\n",
              "      <td>2</td>\n",
              "      <td>2</td>\n",
              "      <td>3</td>\n",
              "      <td>1</td>\n",
              "      <td>0</td>\n",
              "      <td>1</td>\n",
              "      <td>0</td>\n",
              "      <td>1</td>\n",
              "      <td>1</td>\n",
              "    </tr>\n",
              "    <tr>\n",
              "      <th>4</th>\n",
              "      <td>7420</td>\n",
              "      <td>4</td>\n",
              "      <td>1</td>\n",
              "      <td>2</td>\n",
              "      <td>2</td>\n",
              "      <td>1</td>\n",
              "      <td>1</td>\n",
              "      <td>1</td>\n",
              "      <td>0</td>\n",
              "      <td>1</td>\n",
              "      <td>0</td>\n",
              "    </tr>\n",
              "  </tbody>\n",
              "</table>\n",
              "</div>\n",
              "      <button class=\"colab-df-convert\" onclick=\"convertToInteractive('df-f1e9f3a1-2364-499d-9378-b0aea097247b')\"\n",
              "              title=\"Convert this dataframe to an interactive table.\"\n",
              "              style=\"display:none;\">\n",
              "        \n",
              "  <svg xmlns=\"http://www.w3.org/2000/svg\" height=\"24px\"viewBox=\"0 0 24 24\"\n",
              "       width=\"24px\">\n",
              "    <path d=\"M0 0h24v24H0V0z\" fill=\"none\"/>\n",
              "    <path d=\"M18.56 5.44l.94 2.06.94-2.06 2.06-.94-2.06-.94-.94-2.06-.94 2.06-2.06.94zm-11 1L8.5 8.5l.94-2.06 2.06-.94-2.06-.94L8.5 2.5l-.94 2.06-2.06.94zm10 10l.94 2.06.94-2.06 2.06-.94-2.06-.94-.94-2.06-.94 2.06-2.06.94z\"/><path d=\"M17.41 7.96l-1.37-1.37c-.4-.4-.92-.59-1.43-.59-.52 0-1.04.2-1.43.59L10.3 9.45l-7.72 7.72c-.78.78-.78 2.05 0 2.83L4 21.41c.39.39.9.59 1.41.59.51 0 1.02-.2 1.41-.59l7.78-7.78 2.81-2.81c.8-.78.8-2.07 0-2.86zM5.41 20L4 18.59l7.72-7.72 1.47 1.35L5.41 20z\"/>\n",
              "  </svg>\n",
              "      </button>\n",
              "      \n",
              "  <style>\n",
              "    .colab-df-container {\n",
              "      display:flex;\n",
              "      flex-wrap:wrap;\n",
              "      gap: 12px;\n",
              "    }\n",
              "\n",
              "    .colab-df-convert {\n",
              "      background-color: #E8F0FE;\n",
              "      border: none;\n",
              "      border-radius: 50%;\n",
              "      cursor: pointer;\n",
              "      display: none;\n",
              "      fill: #1967D2;\n",
              "      height: 32px;\n",
              "      padding: 0 0 0 0;\n",
              "      width: 32px;\n",
              "    }\n",
              "\n",
              "    .colab-df-convert:hover {\n",
              "      background-color: #E2EBFA;\n",
              "      box-shadow: 0px 1px 2px rgba(60, 64, 67, 0.3), 0px 1px 3px 1px rgba(60, 64, 67, 0.15);\n",
              "      fill: #174EA6;\n",
              "    }\n",
              "\n",
              "    [theme=dark] .colab-df-convert {\n",
              "      background-color: #3B4455;\n",
              "      fill: #D2E3FC;\n",
              "    }\n",
              "\n",
              "    [theme=dark] .colab-df-convert:hover {\n",
              "      background-color: #434B5C;\n",
              "      box-shadow: 0px 1px 3px 1px rgba(0, 0, 0, 0.15);\n",
              "      filter: drop-shadow(0px 1px 2px rgba(0, 0, 0, 0.3));\n",
              "      fill: #FFFFFF;\n",
              "    }\n",
              "  </style>\n",
              "\n",
              "      <script>\n",
              "        const buttonEl =\n",
              "          document.querySelector('#df-f1e9f3a1-2364-499d-9378-b0aea097247b button.colab-df-convert');\n",
              "        buttonEl.style.display =\n",
              "          google.colab.kernel.accessAllowed ? 'block' : 'none';\n",
              "\n",
              "        async function convertToInteractive(key) {\n",
              "          const element = document.querySelector('#df-f1e9f3a1-2364-499d-9378-b0aea097247b');\n",
              "          const dataTable =\n",
              "            await google.colab.kernel.invokeFunction('convertToInteractive',\n",
              "                                                     [key], {});\n",
              "          if (!dataTable) return;\n",
              "\n",
              "          const docLinkHtml = 'Like what you see? Visit the ' +\n",
              "            '<a target=\"_blank\" href=https://colab.research.google.com/notebooks/data_table.ipynb>data table notebook</a>'\n",
              "            + ' to learn more about interactive tables.';\n",
              "          element.innerHTML = '';\n",
              "          dataTable['output_type'] = 'display_data';\n",
              "          await google.colab.output.renderOutput(dataTable, element);\n",
              "          const docLink = document.createElement('div');\n",
              "          docLink.innerHTML = docLinkHtml;\n",
              "          element.appendChild(docLink);\n",
              "        }\n",
              "      </script>\n",
              "    </div>\n",
              "  </div>\n",
              "  "
            ]
          },
          "metadata": {},
          "execution_count": 126
        }
      ]
    },
    {
      "cell_type": "code",
      "source": [
        "standardizer = preprocessing.StandardScaler().fit(x)\n",
        "x_std = standardizer.transform(x)\n",
        "normalizer = preprocessing.Normalizer().fit(x)\n",
        "x_norm = normalizer.transform(x)"
      ],
      "metadata": {
        "id": "0r5yM4O1ZuU9"
      },
      "execution_count": 127,
      "outputs": []
    },
    {
      "cell_type": "code",
      "source": [
        "x_train, x_test, y_train, y_test = train_test_split(x_norm, y_norm, test_size = 0.2)\n",
        "samples = len(y_train)\n",
        "test_samples = len(y_test)\n",
        "x0_train = np.ones((samples, 1))\n",
        "x_train = np.hstack((x0_train, x_train)) \n",
        "x0_test = np.ones((test_samples, 1))\n",
        "x_test = np.hstack((x0_test, x_test)) \n",
        "theta = np.zeros(12)\n",
        "theta = theta.reshape(12,1)\n",
        "theta"
      ],
      "metadata": {
        "colab": {
          "base_uri": "https://localhost:8080/",
          "height": 0
        },
        "id": "Y8Sn5s6gZyVc",
        "outputId": "e30cf32e-965a-4e48-da40-736b49089218"
      },
      "execution_count": 128,
      "outputs": [
        {
          "output_type": "execute_result",
          "data": {
            "text/plain": [
              "array([[0.],\n",
              "       [0.],\n",
              "       [0.],\n",
              "       [0.],\n",
              "       [0.],\n",
              "       [0.],\n",
              "       [0.],\n",
              "       [0.],\n",
              "       [0.],\n",
              "       [0.],\n",
              "       [0.],\n",
              "       [0.]])"
            ]
          },
          "metadata": {},
          "execution_count": 128
        }
      ]
    },
    {
      "cell_type": "code",
      "source": [
        "iterations = 1500\n",
        "theta,train_loss,val_loss = gradient_descent_parameter_penalties(x_train,y_train,x_test,y_test,theta,lr,iterations,Lambda)\n",
        "print(\"Theta values, 3b, normalized regression: \",theta)\n",
        "print(\"Training loss history, 3b, normalized regression: \", train_loss)\n",
        "print(\"Validation loss history, 3b, normalized regression: \", val_loss)"
      ],
      "metadata": {
        "colab": {
          "base_uri": "https://localhost:8080/",
          "height": 0
        },
        "id": "GwiWSsIWZzEb",
        "outputId": "8259c619-2679-4040-81d3-bb8859560ebc"
      },
      "execution_count": 129,
      "outputs": [
        {
          "output_type": "stream",
          "name": "stdout",
          "text": [
            "Theta values, 3b, normalized regression:  [[ 2.00201416e-02]\n",
            " [ 2.00203325e-02]\n",
            " [-1.92428551e-04]\n",
            " [-2.17146347e-05]\n",
            " [-3.96489873e-05]\n",
            " [ 9.51113301e-05]\n",
            " [-3.03805600e-05]\n",
            " [ 3.23354073e-05]\n",
            " [ 1.91750849e-05]\n",
            " [ 4.98990326e-06]\n",
            " [ 6.57653389e-05]\n",
            " [ 2.95858219e-05]]\n",
            "Training loss history, 3b, normalized regression:  [0.00063802 0.00045333 0.00033512 ... 0.00012498 0.00012498 0.00012498]\n",
            "Validation loss history, 3b, normalized regression:  [1.49641547e-04 1.04753913e-04 7.62316778e-05 ... 2.78115385e-05\n",
            " 2.78115385e-05 2.78115384e-05]\n"
          ]
        }
      ]
    },
    {
      "cell_type": "code",
      "source": [
        "plt.plot(range(1, iterations + 1), train_loss, color='blue') \n",
        "plt.rcParams[\"figure.figsize\"] = (10,6) \n",
        "plt.grid() \n",
        "plt.xlabel('Number of Iterations') \n",
        "plt.ylabel('Loss') \n",
        "plt.title('3b Normalized Set Training Loss') "
      ],
      "metadata": {
        "colab": {
          "base_uri": "https://localhost:8080/",
          "height": 421
        },
        "id": "wscfbAtmZ8nX",
        "outputId": "94d64511-0fdb-4d8a-e5b7-bf0d1d332bb8"
      },
      "execution_count": 130,
      "outputs": [
        {
          "output_type": "execute_result",
          "data": {
            "text/plain": [
              "Text(0.5, 1.0, '3b Normalized Set Training Loss')"
            ]
          },
          "metadata": {},
          "execution_count": 130
        },
        {
          "output_type": "display_data",
          "data": {
            "text/plain": [
              "<Figure size 720x432 with 1 Axes>"
            ],
            "image/png": "[encoded data removed]"
          },
          "metadata": {
            "needs_background": "light"
          }
        }
      ]
    },
    {
      "cell_type": "code",
      "source": [
        "plt.plot(range(1, iterations + 1), val_loss, color='blue') \n",
        "plt.rcParams[\"figure.figsize\"] = (10,6) \n",
        "plt.grid() \n",
        "plt.xlabel('Number of Iterations') \n",
        "plt.ylabel('Loss') \n",
        "plt.title('3b Normalized Set Validation Loss') "
      ],
      "metadata": {
        "colab": {
          "base_uri": "https://localhost:8080/",
          "height": 421
        },
        "id": "itXzE6YhaCJ7",
        "outputId": "08634ab2-ed4f-4858-d81f-1697b1b8ddaf"
      },
      "execution_count": 131,
      "outputs": [
        {
          "output_type": "execute_result",
          "data": {
            "text/plain": [
              "Text(0.5, 1.0, '3b Normalized Set Validation Loss')"
            ]
          },
          "metadata": {},
          "execution_count": 131
        },
        {
          "output_type": "display_data",
          "data": {
            "text/plain": [
              "<Figure size 720x432 with 1 Axes>"
            ],
            "image/png": "[encoded data removed]"
          },
          "metadata": {
            "needs_background": "light"
          }
        }
      ]
    }
  ]
}